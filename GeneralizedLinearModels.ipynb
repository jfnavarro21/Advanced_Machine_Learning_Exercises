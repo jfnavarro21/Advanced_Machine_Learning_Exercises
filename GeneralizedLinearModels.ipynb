{
 "cells": [
  {
   "cell_type": "markdown",
   "metadata": {},
   "source": [
    "# Advanced Machine Learning (MScA 32017)\n",
    "\n",
    "# Generalized Linear Model in Spark ML\n",
    "\n",
    "Yuri Balasanov, &copy; iLykei 2017\n",
    "\n",
    "## Generalized linear model in ML\n",
    "\n",
    "Generalized linear regression model is described [here](https://spark.apache.org/docs/latest/api/python/pyspark.ml.html#module-pyspark.ml.regression).\n",
    "\n",
    "Generalized linear model class has attributes:\n",
    "\n",
    "`class pyspark.ml.regression.GeneralizedLinearRegression(self, labelCol=\"label\", featuresCol=\"features\", predictionCol=\"prediction\", family=\"gaussian\", link=None, fitIntercept=True, maxIter=25, tol=1e-6, regParam=0.0, weightCol=None, solver=\"irls\", linkPredictionCol=None, variancePower=0.0, linkPower=None)`\n",
    "\n",
    "Available families and their links:\n",
    "\n",
    "- “gaussian” -> “identity”, “log”, “inverse” <br>\n",
    "- “binomial” -> “logit”, “probit”, “cloglog” <br>\n",
    "- “poisson” -> “log”, “identity”, “sqrt” <br>\n",
    "- “gamma” -> “inverse”, “identity”, “log” <br>\n",
    "\n",
    "Data for generalized linear regression in ML, like for linear regression, need to be in the form of DataFrame of `LabeledPoint` records: first element is label, second element is a vector of predictors.\n",
    "\n",
    "## Logistic regression in ML\n",
    "\n"
   ]
  },
  {
   "cell_type": "code",
   "execution_count": 8,
   "metadata": {},
   "outputs": [],
   "source": [
    "%matplotlib inline\n",
    "import matplotlib.pyplot as plt\n",
    "from pyspark.ml.regression import GeneralizedLinearRegression\n",
    "from pyspark.ml.linalg import Vectors\n",
    "from pyspark.ml.feature import VectorAssembler\n",
    "from pyspark.sql import Row"
   ]
  },
  {
   "cell_type": "markdown",
   "metadata": {},
   "source": [
    "Create a toy data example."
   ]
  },
  {
   "cell_type": "code",
   "execution_count": 2,
   "metadata": {},
   "outputs": [
    {
     "name": "stdout",
     "output_type": "stream",
     "text": [
      "[Row(label=0.0, features=DenseVector([0.0, 0.0]))]\n",
      "+-----+---------+\n",
      "|label| features|\n",
      "+-----+---------+\n",
      "|  0.0|[0.0,0.0]|\n",
      "|  1.0|[0.0,1.0]|\n",
      "|  1.0|[1.0,0.0]|\n",
      "|  1.0|[1.0,1.0]|\n",
      "+-----+---------+\n",
      "\n"
     ]
    }
   ],
   "source": [
    "df = spark.createDataFrame([ \\\n",
    "     (0.0, Vectors.dense(0.0,0.0)), \\\n",
    "     (1.0, Vectors.dense(0.0, 1.0)), \\\n",
    "     (1.0,Vectors.dense(1.0,0.0)), \\\n",
    "     (1.0,Vectors.dense(1.0,1.0))], [\"label\", \"features\"])\n",
    "print(df.take(1))\n",
    "df.show()"
   ]
  },
  {
   "cell_type": "markdown",
   "metadata": {},
   "source": [
    "Create linear regression object and fit the model."
   ]
  },
  {
   "cell_type": "code",
   "execution_count": 3,
   "metadata": {},
   "outputs": [],
   "source": [
    "glr = GeneralizedLinearRegression(family=\"binomial\",link=\"logit\",\n",
    "                       featuresCol=\"features\",labelCol=\"label\")\n",
    "model = glr.fit(df)"
   ]
  },
  {
   "cell_type": "markdown",
   "metadata": {},
   "source": [
    "Print fitted model characteristics."
   ]
  },
  {
   "cell_type": "code",
   "execution_count": 4,
   "metadata": {},
   "outputs": [
    {
     "name": "stdout",
     "output_type": "stream",
     "text": [
      "Model slopes are: [51.0719700215,51.0719700215]\n",
      "Model intercept is -25.535985010711396\n",
      "Model AIC is: 6.000000000048755\n",
      "Model deviance is: 4.87547779924009e-11\n",
      "Model degrees of freedom are: 1\n",
      "Model null deviance is: 4.498681156950466\n",
      "+-----+---------+--------------------+\n",
      "|label| features|          prediction|\n",
      "+-----+---------+--------------------+\n",
      "|  0.0|[0.0,0.0]|8.125734346253455...|\n",
      "|  1.0|[0.0,1.0]|  0.9999999999918743|\n",
      "|  1.0|[1.0,0.0]|  0.9999999999918743|\n",
      "|  1.0|[1.0,1.0]|  0.9999999999999999|\n",
      "+-----+---------+--------------------+\n",
      "\n",
      "[Row(label=0.0, features=DenseVector([0.0, 0.0]), prediction=8.125734346253455e-12)]\n"
     ]
    }
   ],
   "source": [
    "print('Model slopes are: %s' % model.coefficients)\n",
    "print('Model intercept is %s' % model.intercept)\n",
    "print('Model AIC is: %s' % model.summary.aic)\n",
    "print('Model deviance is: %s' % model.summary.deviance)\n",
    "print('Model degrees of freedom are: %s' % \n",
    "      model.summary.degreesOfFreedom)\n",
    "print('Model null deviance is: %s' \\\n",
    "      % model.summary.nullDeviance)\n",
    "model.transform(df).show()\n",
    "print(model.transform(df).take(1))"
   ]
  },
  {
   "cell_type": "markdown",
   "metadata": {},
   "source": [
    "## Example: reading data from csv\n",
    "\n",
    "Read data from file `HIV_Protease.csv` considered in Linear and Nonlinear Models (MScA 31010) and fit logistic regression model.\n",
    "\n",
    "The data in the file HIV_Protease.csv show part of the analysis of HIV enzyme called Protease.\n",
    "Protease (PR) plays important role in reproductive cycle of the virus.\n",
    "\n",
    "As the HIV-1 genome is copied within cell it is in one long string of amino acids; the PR protein cuts this string into the numerous proteins required by the HIV virus life-cycle.\n",
    "\n",
    "Protease consists of 99 amino acids. Each amino acid can be in one of several codons.\n",
    "The active part of PR enzyme is located in positions 25, 26, 27 and are called respectively:\n",
    "25 - Aspartic acid (Asp), codons GAC, GAT;\n",
    "26 - Threonine (Thr), codons ACA, ACC, ACG, ACT;\n",
    "27 - Glycine (Gly), codons GGA, GGC, GGG, GGT.\n",
    "\n",
    "Data come from [Kaggle competition](https://kaggle.com/c/hivprogression/data)"
   ]
  },
  {
   "cell_type": "code",
   "execution_count": 6,
   "metadata": {},
   "outputs": [
    {
     "name": "stdout",
     "output_type": "stream",
     "text": [
      "DataFrame # rows = 902 ,       number of columns = 3\n",
      "+----+---+-------+\n",
      "|Resp| VL|CODON_2|\n",
      "+----+---+-------+\n",
      "|   0|4.3|    caa|\n",
      "|   0|3.6|    caa|\n",
      "|   0|3.2|    caa|\n",
      "|   0|5.7|    caa|\n",
      "|   0|3.5|    caa|\n",
      "|   0|3.9|    caa|\n",
      "|   0|3.4|    caa|\n",
      "|   0|4.4|    caa|\n",
      "|   0|3.9|    caa|\n",
      "|   0|4.1|    caa|\n",
      "+----+---+-------+\n",
      "only showing top 10 rows\n",
      "\n"
     ]
    }
   ],
   "source": [
    "df = spark.read.csv('./data/HIV_Protease.csv', \n",
    "                    sep = ',',header=True,inferSchema=True)\n",
    "print('DataFrame # rows = %s , \\\n",
    "      number of columns = %s' % (df.count(),len(df.columns)))\n",
    "df.show(10)\n"
   ]
  },
  {
   "cell_type": "markdown",
   "metadata": {},
   "source": [
    "<font color=blue>\n",
    "\n",
    "Add new column to the DataFrame with values `CODON_2==\"caa\"`.\n",
    "\n",
    "+----+---+-------+----------+ <br>\n",
    "|Resp| VL|CODON_2|CODON2_caa| <br>\n",
    "+----+---+-------+----------+ <br>\n",
    "|   0|4.3|    caa|      true| <br>\n",
    "|   0|3.6|    caa|      true| <br>\n",
    "|   0|3.2|    caa|      true| <br>\n",
    "|   0|5.7|    caa|      true| <br>\n",
    "|   0|3.5|    caa|      true| <br>\n",
    "|   0|3.9|    caa|      true| <br>\n",
    "\n",
    "Enter code in the following cell."
   ]
  },
  {
   "cell_type": "code",
   "execution_count": 16,
   "metadata": {},
   "outputs": [
    {
     "data": {
      "text/plain": [
       "[(0, 4.3, 'caa', True),\n",
       " (0, 3.6, 'caa', True),\n",
       " (0, 3.2, 'caa', True),\n",
       " (0, 5.7, 'caa', True),\n",
       " (0, 3.5, 'caa', True),\n",
       " (0, 3.9, 'caa', True),\n",
       " (0, 3.4, 'caa', True),\n",
       " (0, 4.4, 'caa', True),\n",
       " (0, 3.9, 'caa', True),\n",
       " (0, 4.1, 'caa', True)]"
      ]
     },
     "execution_count": 16,
     "metadata": {},
     "output_type": "execute_result"
    }
   ],
   "source": [
    "# Skipped code\n",
    "# Column \"CODON2_caa\"\n",
    "\n",
    "df1=df.rdd.map(lambda r: (r['Resp'], r['VL'], r['CODON_2'], r['CODON_2']==\"caa\"))\n",
    "df1.take(10)"
   ]
  },
  {
   "cell_type": "code",
   "execution_count": 32,
   "metadata": {},
   "outputs": [
    {
     "name": "stdout",
     "output_type": "stream",
     "text": [
      "+----+---+-------+----------+\n",
      "|Resp| VL|CODON_2|CODON2_caa|\n",
      "+----+---+-------+----------+\n",
      "|   0|4.3|    caa|      true|\n",
      "|   0|3.6|    caa|      true|\n",
      "|   0|3.2|    caa|      true|\n",
      "|   0|5.7|    caa|      true|\n",
      "|   0|3.5|    caa|      true|\n",
      "|   0|3.9|    caa|      true|\n",
      "|   0|3.4|    caa|      true|\n",
      "|   0|4.4|    caa|      true|\n",
      "|   0|3.9|    caa|      true|\n",
      "|   0|4.1|    caa|      true|\n",
      "|   0|3.5|    caa|      true|\n",
      "|   0|5.9|    caa|      true|\n",
      "|   0|5.1|    caa|      true|\n",
      "|   0|4.6|    caa|      true|\n",
      "|   0|3.0|    caa|      true|\n",
      "|   0|3.3|    caa|      true|\n",
      "|   0|4.7|    caa|      true|\n",
      "|   0|4.1|    caa|      true|\n",
      "|   0|5.1|    caa|      true|\n",
      "|   0|5.2|    caa|      true|\n",
      "+----+---+-------+----------+\n",
      "only showing top 20 rows\n",
      "\n"
     ]
    }
   ],
   "source": [
    "df2=sqlContext.createDataFrame(df1,['Resp','VL','CODON_2','CODON2_caa'])\n",
    "df2.show()"
   ]
  },
  {
   "cell_type": "markdown",
   "metadata": {},
   "source": [
    "<font color=blue>\n",
    "\n",
    "Prepare features:  <br>\n",
    "\n",
    "+----+---+-------+----------+---------+ <br>\n",
    "|Resp| VL|CODON_2|CODON2_caa|  feature| <br>\n",
    "+----+---+-------+----------+---------+ <br>\n",
    "|   0|4.3|    caa|      true|[4.3,1.0]| <br>\n",
    "|   0|3.6|    caa|      true|[3.6,1.0]| <br>\n",
    "|   0|3.2|    caa|      true|[3.2,1.0]| <br>\n",
    "|   0|5.7|    caa|      true|[5.7,1.0]| <br>\n",
    "|   0|3.5|    caa|      true|[3.5,1.0]| <br>\n",
    "+----+---+-------+----------+---------+ <br>\n",
    "\n",
    "Enter code in the following cell."
   ]
  },
  {
   "cell_type": "code",
   "execution_count": 35,
   "metadata": {},
   "outputs": [
    {
     "name": "stdout",
     "output_type": "stream",
     "text": [
      "+----+---+-------+----------+---------+\n",
      "|Resp| VL|CODON_2|CODON2_caa|  feature|\n",
      "+----+---+-------+----------+---------+\n",
      "|   0|4.3|    caa|      true|[4.3,1.0]|\n",
      "|   0|3.6|    caa|      true|[3.6,1.0]|\n",
      "|   0|3.2|    caa|      true|[3.2,1.0]|\n",
      "|   0|5.7|    caa|      true|[5.7,1.0]|\n",
      "|   0|3.5|    caa|      true|[3.5,1.0]|\n",
      "+----+---+-------+----------+---------+\n",
      "only showing top 5 rows\n",
      "\n"
     ]
    }
   ],
   "source": [
    "# Skipped code\n",
    "# Features\n",
    "assembler=VectorAssembler(inputCols=[\"VL\",\"CODON2_caa\"],outputCol=\"feature\")\n",
    "df_ready=assembler.transform(df2)\n",
    "df_ready.show(5)"
   ]
  },
  {
   "cell_type": "markdown",
   "metadata": {},
   "source": [
    "<font color=blue>\n",
    "\n",
    "Fit logistic regression model. <br>\n",
    "Calculate predictions. <br>\n",
    "\n",
    "+----+---+-------+----------+---------+--------------------+ <br>\n",
    "|Resp| VL|CODON_2|CODON2_caa|  feature|          prediction| <br>\n",
    "+----+---+-------+----------+---------+--------------------+ <br>\n",
    "|   0|4.3|    caa|      true|[4.3,1.0]| 0.00847475992326874| <br>\n",
    "|   0|3.6|    caa|      true|[3.6,1.0]|0.002981358247408373| <br>\n",
    "|   0|3.2|    caa|      true|[3.2,1.0]|0.001638185187625...| <br>\n",
    "|   0|5.7|    caa|      true|[5.7,1.0]| 0.06527304657720455| <br>\n",
    "|   0|3.5|    caa|      true|[3.5,1.0]|0.002567057701284...| <br>\n",
    "|   0|3.9|    caa|      true|[3.9,1.0]|0.004668266353804523| <br>\n",
    "\n",
    "Print:\n",
    "\n",
    "AIC = 727.911295363681 <br>\n",
    "Deviance = 721.911295363681 <br>\n",
    "DF = 899 <br>\n",
    "NULL Deviance = 901.615827311257 <br>\n",
    "Slopes = [1.50034057767,-3.28161237344] <br>\n",
    "Intercept = -7.932004189407494 <br>\n",
    "\n",
    "Plot predictions. <br>\n",
    "\n",
    "Compare results with Workshop 2 from Lecture 4 of MScA 31010.\n",
    "\n",
    "Enter code in the following 4 cells."
   ]
  },
  {
   "cell_type": "code",
   "execution_count": 36,
   "metadata": {},
   "outputs": [],
   "source": [
    "# Skipped code\n",
    "# Fitting model\n",
    "glr = GeneralizedLinearRegression(family=\"binomial\",link=\"logit\",\n",
    "                       featuresCol=\"feature\",labelCol=\"Resp\")\n",
    "model = glr.fit(df_ready)"
   ]
  },
  {
   "cell_type": "code",
   "execution_count": 38,
   "metadata": {},
   "outputs": [
    {
     "name": "stdout",
     "output_type": "stream",
     "text": [
      "+----+---+-------+----------+---------+--------------------+\n",
      "|Resp| VL|CODON_2|CODON2_caa|  feature|          prediction|\n",
      "+----+---+-------+----------+---------+--------------------+\n",
      "|   0|4.3|    caa|      true|[4.3,1.0]| 0.00847475992326874|\n",
      "|   0|3.6|    caa|      true|[3.6,1.0]|0.002981358247408373|\n",
      "|   0|3.2|    caa|      true|[3.2,1.0]|0.001638185187625...|\n",
      "|   0|5.7|    caa|      true|[5.7,1.0]| 0.06527304657720455|\n",
      "|   0|3.5|    caa|      true|[3.5,1.0]|0.002567057701284...|\n",
      "|   0|3.9|    caa|      true|[3.9,1.0]|0.004668266353804523|\n",
      "|   0|3.4|    caa|      true|[3.4,1.0]|0.002210202260325...|\n",
      "|   0|4.4|    caa|      true|[4.4,1.0]|0.009833112151997992|\n",
      "|   0|3.9|    caa|      true|[3.9,1.0]|0.004668266353804523|\n",
      "|   0|4.1|    caa|      true|[4.1,1.0]|0.006291651258443619|\n",
      "|   0|3.5|    caa|      true|[3.5,1.0]|0.002567057701284...|\n",
      "|   0|5.9|    caa|      true|[5.9,1.0]| 0.08614758517249917|\n",
      "|   0|5.1|    caa|      true|[5.1,1.0]|0.027601928473258278|\n",
      "|   0|4.6|    caa|      true|[4.6,1.0]|0.013228695861830592|\n",
      "|   0|3.0|    caa|      true|[3.0,1.0]|0.001214030336587259|\n",
      "|   0|3.3|    caa|      true|[3.3,1.0]|0.001902859871138...|\n",
      "|   0|4.7|    caa|      true|[4.7,1.0]|0.015337232466194872|\n",
      "|   0|4.1|    caa|      true|[4.1,1.0]|0.006291651258443619|\n",
      "|   0|5.1|    caa|      true|[5.1,1.0]|0.027601928473258278|\n",
      "|   0|5.2|    caa|      true|[5.2,1.0]| 0.03192730573727221|\n",
      "+----+---+-------+----------+---------+--------------------+\n",
      "only showing top 20 rows\n",
      "\n",
      "[Row(Resp=0, VL=4.3, CODON_2='caa', CODON2_caa=True, feature=DenseVector([4.3, 1.0]), prediction=0.00847475992326874)]\n"
     ]
    }
   ],
   "source": [
    "# Skipped code\n",
    "# Predictions\n",
    "model.transform(df_ready).show()\n",
    "print(model.transform(df_ready).take(1))"
   ]
  },
  {
   "cell_type": "code",
   "execution_count": 39,
   "metadata": {},
   "outputs": [
    {
     "name": "stdout",
     "output_type": "stream",
     "text": [
      "Model slopes are: [1.50034057767,-3.28161237344]\n",
      "Model intercept is -7.932004189407494\n",
      "Model AIC is: 727.911295363681\n",
      "Model deviance is: 721.911295363681\n",
      "Model degrees of freedom are: 899\n",
      "Model null deviance is: 901.615827311257\n"
     ]
    }
   ],
   "source": [
    "# Skipped code\n",
    "# Summary results\n",
    "print('Model slopes are: %s' % model.coefficients)\n",
    "print('Model intercept is %s' % model.intercept)\n",
    "print('Model AIC is: %s' % model.summary.aic)\n",
    "print('Model deviance is: %s' % model.summary.deviance)\n",
    "print('Model degrees of freedom are: %s' % \n",
    "      model.summary.degreesOfFreedom)\n",
    "print('Model null deviance is: %s' \\\n",
    "      % model.summary.nullDeviance)"
   ]
  },
  {
   "cell_type": "code",
   "execution_count": 51,
   "metadata": {},
   "outputs": [
    {
     "data": {
      "text/plain": [
       "Text(0.5,1,'Plot of predictions')"
      ]
     },
     "execution_count": 51,
     "metadata": {},
     "output_type": "execute_result"
    },
    {
     "data": {
      "image/png": "[encoded data removed]",
      "text/plain": [
       "<matplotlib.figure.Figure at 0x24bb3045748>"
      ]
     },
     "metadata": {},
     "output_type": "display_data"
    }
   ],
   "source": [
    "# Skipped code\n",
    "# Plot of predictions\n",
    "plt.plot(model.transform(df_ready).select(\"prediction\").toPandas(),'o')\n",
    "plt.title(\"Plot of predictions\")\n"
   ]
  },
  {
   "cell_type": "markdown",
   "metadata": {},
   "source": [
    "## Poisson regression\n",
    "\n",
    "Use example data from Workshop of Lecture 5, Linear and Nonlinear Models (MScA 31010): Demand for medical care by elderly.\n",
    "\n",
    "ML library cannot take character predictors. All predictors are converted to numeric format."
   ]
  },
  {
   "cell_type": "code",
   "execution_count": 52,
   "metadata": {},
   "outputs": [
    {
     "name": "stdout",
     "output_type": "stream",
     "text": [
      "DataFrame # rows = 4406 , number of columns = 7\n",
      "+---+----+------+--------+------+------+-------+\n",
      "|ofp|hosp|health|numchron|gender|school|privins|\n",
      "+---+----+------+--------+------+------+-------+\n",
      "|  5|   1|     2|       2|     2|     6|      2|\n",
      "|  1|   0|     2|       2|     1|    10|      2|\n",
      "| 13|   3|     1|       4|     1|    10|      1|\n",
      "| 16|   1|     1|       2|     2|     3|      2|\n",
      "|  3|   0|     2|       2|     1|     6|      2|\n",
      "| 17|   0|     1|       5|     1|     7|      1|\n",
      "|  9|   0|     2|       0|     1|     8|      2|\n",
      "|  3|   0|     2|       0|     1|     8|      2|\n",
      "|  1|   0|     2|       0|     1|     8|      2|\n",
      "|  0|   0|     2|       0|     1|     8|      2|\n",
      "+---+----+------+--------+------+------+-------+\n",
      "only showing top 10 rows\n",
      "\n"
     ]
    }
   ],
   "source": [
    "df = spark.read.csv('./data/DebTrivediNum.csv', \n",
    "                    sep = ',',header=True,inferSchema=True)\n",
    "print('DataFrame # rows = %s , \\\n",
    "number of columns = %s' % (df.count(),len(df.columns)))\n",
    "df.show(10)"
   ]
  },
  {
   "cell_type": "code",
   "execution_count": 53,
   "metadata": {},
   "outputs": [
    {
     "name": "stdout",
     "output_type": "stream",
     "text": [
      "root\n",
      " |-- ofp: integer (nullable = true)\n",
      " |-- hosp: integer (nullable = true)\n",
      " |-- health: integer (nullable = true)\n",
      " |-- numchron: integer (nullable = true)\n",
      " |-- gender: integer (nullable = true)\n",
      " |-- school: integer (nullable = true)\n",
      " |-- privins: integer (nullable = true)\n",
      "\n"
     ]
    }
   ],
   "source": [
    "df.printSchema()"
   ]
  },
  {
   "cell_type": "markdown",
   "metadata": {},
   "source": [
    "<font color=blue>\n",
    "\n",
    "Prepare features in the following cell\n",
    "\n",
    "+---+----+------+--------+------+------+-------+--------------------+ <br>\n",
    "|ofp|hosp|health|numchron|gender|school|privins|             feature|<br>\n",
    "+---+----+------+--------+------+------+-------+--------------------+<br>\n",
    "|  5|   1|     2|       2|     2|     6|      2|[1.0,2.0,2.0,2.0,...|<br>\n",
    "|  1|   0|     2|       2|     1|    10|      2|[0.0,2.0,2.0,1.0,...|<br>\n",
    "| 13|   3|     1|       4|     1|    10|      1|[3.0,1.0,4.0,1.0,...|<br>\n",
    "| 16|   1|     1|       2|     2|     3|      2|[1.0,1.0,2.0,2.0,...|<br>\n",
    "|  3|   0|     2|       2|     1|     6|      2|[0.0,2.0,2.0,1.0,...|<br>\n",
    "+---+----+------+--------+------+------+-------+--------------------+<br>"
   ]
  },
  {
   "cell_type": "code",
   "execution_count": 54,
   "metadata": {},
   "outputs": [
    {
     "name": "stdout",
     "output_type": "stream",
     "text": [
      "+---+----+------+--------+------+------+-------+--------------------+\n",
      "|ofp|hosp|health|numchron|gender|school|privins|             feature|\n",
      "+---+----+------+--------+------+------+-------+--------------------+\n",
      "|  5|   1|     2|       2|     2|     6|      2|[1.0,2.0,2.0,2.0,...|\n",
      "|  1|   0|     2|       2|     1|    10|      2|[0.0,2.0,2.0,1.0,...|\n",
      "| 13|   3|     1|       4|     1|    10|      1|[3.0,1.0,4.0,1.0,...|\n",
      "| 16|   1|     1|       2|     2|     3|      2|[1.0,1.0,2.0,2.0,...|\n",
      "|  3|   0|     2|       2|     1|     6|      2|[0.0,2.0,2.0,1.0,...|\n",
      "+---+----+------+--------+------+------+-------+--------------------+\n",
      "only showing top 5 rows\n",
      "\n"
     ]
    }
   ],
   "source": [
    "# Skipped code\n",
    "# Features\n",
    "assembler=VectorAssembler(inputCols=[\"hosp\",\"health\",\"numchron\",\"gender\",\"school\",\"privins\"],outputCol=\"feature\")\n",
    "df_ready2=assembler.transform(df)\n",
    "df_ready2.show(5)"
   ]
  },
  {
   "cell_type": "markdown",
   "metadata": {},
   "source": [
    "<font color=blue>\n",
    "\n",
    "Fit Poisson regression model in the following cell."
   ]
  },
  {
   "cell_type": "code",
   "execution_count": 55,
   "metadata": {},
   "outputs": [],
   "source": [
    "# Skipped code\n",
    "# Fitting Poisson regression\n",
    "glr = GeneralizedLinearRegression(family=\"poisson\",link=\"log\",\n",
    "                       featuresCol=\"feature\",labelCol=\"ofp\")\n",
    "model = glr.fit(df_ready2)"
   ]
  },
  {
   "cell_type": "markdown",
   "metadata": {},
   "source": [
    "<font color=blue>\n",
    "\n",
    "Calculate predictions in the cell below.\n",
    "\n",
    "+---+------------------+ <br>\n",
    "|ofp|        prediction| <br>\n",
    "+---+------------------+ <br>\n",
    "|  5| 5.597984548488276| <br>\n",
    "|  1| 5.908273641596692| <br>\n",
    "| 13|13.918017249686438| <br>\n",
    "| 16| 6.840622791047057| <br>\n",
    "|  3|  5.32000624863982| <br>\n",
    "| 17| 9.111261190424312| <br>\n",
    "|  9| 4.190487869904227| <br>\n",
    "|  3| 4.190487869904227| <br>\n",
    "|  1| 4.190487869904227| <br>"
   ]
  },
  {
   "cell_type": "code",
   "execution_count": 56,
   "metadata": {},
   "outputs": [
    {
     "name": "stdout",
     "output_type": "stream",
     "text": [
      "+---+----+------+--------+------+------+-------+--------------------+------------------+\n",
      "|ofp|hosp|health|numchron|gender|school|privins|             feature|        prediction|\n",
      "+---+----+------+--------+------+------+-------+--------------------+------------------+\n",
      "|  5|   1|     2|       2|     2|     6|      2|[1.0,2.0,2.0,2.0,...| 5.597984548488303|\n",
      "|  1|   0|     2|       2|     1|    10|      2|[0.0,2.0,2.0,1.0,...|5.9082736415967885|\n",
      "| 13|   3|     1|       4|     1|    10|      1|[3.0,1.0,4.0,1.0,...| 13.91801724968611|\n",
      "| 16|   1|     1|       2|     2|     3|      2|[1.0,1.0,2.0,2.0,...|6.8406227910470125|\n",
      "|  3|   0|     2|       2|     1|     6|      2|[0.0,2.0,2.0,1.0,...| 5.320006248639936|\n",
      "| 17|   0|     1|       5|     1|     7|      1|[0.0,1.0,5.0,1.0,...|  9.11126119042413|\n",
      "|  9|   0|     2|       0|     1|     8|      2|[0.0,2.0,0.0,1.0,...| 4.190487869904298|\n",
      "|  3|   0|     2|       0|     1|     8|      2|[0.0,2.0,0.0,1.0,...| 4.190487869904298|\n",
      "|  1|   0|     2|       0|     1|     8|      2|[0.0,2.0,0.0,1.0,...| 4.190487869904298|\n",
      "|  0|   0|     2|       0|     1|     8|      2|[0.0,2.0,0.0,1.0,...| 4.190487869904298|\n",
      "|  0|   0|     2|       1|     2|     8|      2|[0.0,2.0,1.0,2.0,...| 4.330907343006093|\n",
      "| 44|   1|     2|       5|     1|    15|      2|[1.0,2.0,5.0,1.0,...|  12.2756639752537|\n",
      "|  2|   0|     2|       1|     1|     8|      1|[0.0,2.0,1.0,1.0,...| 3.952726372620775|\n",
      "|  1|   0|     1|       1|     1|     8|      1|[0.0,1.0,1.0,1.0,...| 5.225430107855273|\n",
      "| 19|   1|     2|       1|     1|    12|      2|[1.0,2.0,1.0,1.0,...| 6.339282114684968|\n",
      "| 19|   0|     2|       0|     1|     8|      1|[0.0,2.0,0.0,1.0,...|3.4173216603850696|\n",
      "|  0|   0|     2|       1|     2|     8|      1|[0.0,2.0,1.0,2.0,...| 3.531833030389722|\n",
      "|  3|   0|     2|       2|     1|     8|      1|[0.0,2.0,2.0,1.0,...| 4.572014966554609|\n",
      "|  2|   0|     2|       3|     2|    10|      1|[0.0,2.0,3.0,2.0,...| 4.979619712023904|\n",
      "| 12|   0|     2|       4|     2|    12|      2|[0.0,2.0,4.0,2.0,...|7.4432058068870735|\n",
      "+---+----+------+--------+------+------+-------+--------------------+------------------+\n",
      "only showing top 20 rows\n",
      "\n",
      "[Row(ofp=5, hosp=1, health=2, numchron=2, gender=2, school=6, privins=2, feature=DenseVector([1.0, 2.0, 2.0, 2.0, 6.0, 2.0]), prediction=5.597984548488303)]\n"
     ]
    }
   ],
   "source": [
    "# Skipped code\n",
    "# Prediction by Poisson regression\n",
    "model.transform(df_ready2).show()\n",
    "print(model.transform(df_ready2).take(1))"
   ]
  },
  {
   "cell_type": "markdown",
   "metadata": {},
   "source": [
    "<font color=blue>\n",
    "Print:\n",
    "\n",
    "AIC = 35967.50871457949 <br>\n",
    "Deviance = nan <br>\n",
    "DF = 4399 <br>\n",
    "NULL Deviance = nan <br>\n",
    "Slopes = [0.163520706497,-0.279131550019,0.145548457715,-0.112588553502,0.026219800704,0.203960059865]  <br>\n",
    "Intercept = 1.4859902920639672 <br>"
   ]
  },
  {
   "cell_type": "code",
   "execution_count": 57,
   "metadata": {},
   "outputs": [
    {
     "name": "stdout",
     "output_type": "stream",
     "text": [
      "Model slopes are: [0.163520706497,-0.279131550019,0.145548457715,-0.112588553502,0.026219800704,0.203960059865]\n",
      "Model intercept is 1.4859902920639245\n",
      "Model AIC is: 35967.508714579526\n",
      "Model deviance is: nan\n",
      "Model degrees of freedom are: 4399\n",
      "Model null deviance is: nan\n"
     ]
    }
   ],
   "source": [
    "# Skipped code\n",
    "# Printing summary characteristics\n",
    "print('Model slopes are: %s' % model.coefficients)\n",
    "print('Model intercept is %s' % model.intercept)\n",
    "print('Model AIC is: %s' % model.summary.aic)\n",
    "print('Model deviance is: %s' % model.summary.deviance)\n",
    "print('Model degrees of freedom are: %s' % \n",
    "      model.summary.degreesOfFreedom)\n",
    "print('Model null deviance is: %s' \\\n",
    "      % model.summary.nullDeviance)"
   ]
  }
 ],
 "metadata": {
  "kernelspec": {
   "display_name": "Python 3",
   "language": "python",
   "name": "python3"
  },
  "language_info": {
   "codemirror_mode": {
    "name": "ipython",
    "version": 3
   },
   "file_extension": ".py",
   "mimetype": "text/x-python",
   "name": "python",
   "nbconvert_exporter": "python",
   "pygments_lexer": "ipython3",
   "version": "3.6.2"
  }
 },
 "nbformat": 4,
 "nbformat_minor": 2
}
