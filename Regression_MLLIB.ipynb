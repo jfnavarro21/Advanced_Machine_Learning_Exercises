{
 "cells": [
  {
   "cell_type": "markdown",
   "metadata": {},
   "source": [
    "# Advanced Machine Learning (MScA 32017)\n",
    "\n",
    "# Linear Regression in Spark MLLib\n",
    "\n",
    "Yuri Balasanov, &copy; iLykei 2017\n",
    "\n",
    "## Data format and extraction of results\n",
    "\n",
    "Data for linear regression in MLLib need to be in the form of DataFrame of `LabeledPoint` records: first element is label, second element is a vector of predictors."
   ]
  },
  {
   "cell_type": "code",
   "execution_count": 1,
   "metadata": {
    "collapsed": true
   },
   "outputs": [],
   "source": [
    "%matplotlib inline\n",
    "import matplotlib.pyplot as plt\n",
    "from pyspark.ml.regression import LinearRegression\n",
    "from pyspark.ml.linalg import Vectors\n",
    "from pyspark.ml.feature import VectorAssembler"
   ]
  },
  {
   "cell_type": "markdown",
   "metadata": {},
   "source": [
    "Create a toy data example."
   ]
  },
  {
   "cell_type": "code",
   "execution_count": 2,
   "metadata": {},
   "outputs": [
    {
     "name": "stdout",
     "output_type": "stream",
     "text": [
      "[Row(label=0.0, features=DenseVector([0.0, 4.0]))]\n",
      "+-----+---------+\n",
      "|label| features|\n",
      "+-----+---------+\n",
      "|  0.0|[0.0,4.0]|\n",
      "|  1.0|[1.0,4.0]|\n",
      "|  2.0|[4.0,3.0]|\n",
      "|  3.0|[3.0,1.0]|\n",
      "+-----+---------+\n",
      "\n"
     ]
    }
   ],
   "source": [
    "df = spark.createDataFrame([ \\\n",
    "     (0.0, Vectors.dense(0.0,4.0)), \\\n",
    "     (1.0, Vectors.dense(1.0, 4.0)), \\\n",
    "     (2.0,Vectors.dense(4.0,3.0)), \\\n",
    "     (3.0,Vectors.dense(3.0,1.0))], [\"label\", \"features\"])\n",
    "print(df.take(1))\n",
    "df.show()"
   ]
  },
  {
   "cell_type": "markdown",
   "metadata": {},
   "source": [
    "Create linear regression object and fit the model."
   ]
  },
  {
   "cell_type": "code",
   "execution_count": 3,
   "metadata": {
    "collapsed": true
   },
   "outputs": [],
   "source": [
    "lr = LinearRegression(maxIter=5, solver=\"normal\")\n",
    "model = lr.fit(df)"
   ]
  },
  {
   "cell_type": "markdown",
   "metadata": {},
   "source": [
    "Print fitted model characteristics."
   ]
  },
  {
   "cell_type": "code",
   "execution_count": 4,
   "metadata": {},
   "outputs": [
    {
     "name": "stdout",
     "output_type": "stream",
     "text": [
      "Model slopes are: [0.314285714286,-0.571428571429]\n",
      "Model intercept is 2.585714285714292\n",
      "Model parameter t-valueas are: [1.4969103983674916, -2.1081851067789223, 2.231508943056852]\n",
      "Model parameters p-values are: [0.3749401481268009, 0.2819659280572473, 0.2682050245645875]\n",
      "Model parameters standard errors are: [0.20995626366712974, 0.27105237087157574, 1.1587290715367822]\n",
      "Model residual number of degrees of freedom is: 1\n",
      "Model R2 is: 0.9485714285714285\n",
      "Model explained variance is: 1.1857142857142866\n",
      "Model residuals are:\n",
      "+--------------------+\n",
      "|           residuals|\n",
      "+--------------------+\n",
      "|-0.30000000000000027|\n",
      "| 0.38571428571428656|\n",
      "|-0.12857142857142634|\n",
      "| 0.04285714285714093|\n",
      "+--------------------+\n",
      "\n"
     ]
    }
   ],
   "source": [
    "print('Model slopes are: %s' % model.coefficients)\n",
    "print('Model intercept is %s' % model.intercept)\n",
    "print('Model parameter t-valueas are: %s' % model.summary.tValues)\n",
    "print('Model parameters p-values are: %s' % model.summary.pValues)\n",
    "print('Model parameters standard errors are: %s' % model.summary.coefficientStandardErrors)\n",
    "print('Model residual number of degrees of freedom is: %s' \\\n",
    "      % model.summary.degreesOfFreedom)\n",
    "print('Model R2 is: %s' % model.summary.r2)\n",
    "print('Model explained variance is: %s' %model.summary.explainedVariance)\n",
    "print('Model residuals are:') \n",
    "model.summary.residuals.show()"
   ]
  },
  {
   "cell_type": "markdown",
   "metadata": {},
   "source": [
    "To predict create new features:"
   ]
  },
  {
   "cell_type": "code",
   "execution_count": 5,
   "metadata": {},
   "outputs": [
    {
     "name": "stdout",
     "output_type": "stream",
     "text": [
      "+----------+\n",
      "|  features|\n",
      "+----------+\n",
      "|[-1.0,2.0]|\n",
      "+----------+\n",
      "\n"
     ]
    }
   ],
   "source": [
    "test0 = spark.createDataFrame([(Vectors.dense(-1.0,2.0),)], [\"features\"])\n",
    "test0.show()"
   ]
  },
  {
   "cell_type": "markdown",
   "metadata": {},
   "source": [
    "Then transform the model with the new features."
   ]
  },
  {
   "cell_type": "code",
   "execution_count": 6,
   "metadata": {},
   "outputs": [
    {
     "name": "stdout",
     "output_type": "stream",
     "text": [
      "+----------+-----------------+\n",
      "|  features|       prediction|\n",
      "+----------+-----------------+\n",
      "|[-1.0,2.0]|1.128571428571433|\n",
      "+----------+-----------------+\n",
      "\n"
     ]
    },
    {
     "data": {
      "text/plain": [
       "1.128571428571433"
      ]
     },
     "execution_count": 6,
     "metadata": {},
     "output_type": "execute_result"
    }
   ],
   "source": [
    "model.transform(test0).show()\n",
    "model.transform(test0).head().prediction"
   ]
  },
  {
   "cell_type": "markdown",
   "metadata": {},
   "source": [
    "## Example: reading data from csv\n",
    "\n",
    "Read data from file `regdata.csv` and fit simple regression model."
   ]
  },
  {
   "cell_type": "code",
   "execution_count": 7,
   "metadata": {},
   "outputs": [
    {
     "name": "stdout",
     "output_type": "stream",
     "text": [
      "DataFrame # rows = 100 , number of columns = 2\n",
      "+-------------------+------------------+\n",
      "|                  Y|                 X|\n",
      "+-------------------+------------------+\n",
      "|   7.50239901442978|  2.11425512255683|\n",
      "|   10.5947555769349|  3.10559802345624|\n",
      "|  -5.78978343620361|  1.46942494775544|\n",
      "|  -4.63079032995852|-0.560738144475622|\n",
      "|   7.68382624234006|   4.1761551637828|\n",
      "|-0.0983449281196052|  2.77233930511998|\n",
      "|   6.90852273299788|  3.31627239782865|\n",
      "|   8.07236826022985|  1.86512265760553|\n",
      "|   7.08664063298932|  2.50618597603128|\n",
      "|   4.54331129331034|    4.352482385459|\n",
      "+-------------------+------------------+\n",
      "only showing top 10 rows\n",
      "\n"
     ]
    }
   ],
   "source": [
    "df = spark.read.csv('./regdata.csv', sep = ',',header=True,inferSchema=True)\n",
    "print('DataFrame # rows = %s , number of columns = %s' % (df.count(),len(df.columns)))\n",
    "df.show(10)"
   ]
  },
  {
   "cell_type": "raw",
   "metadata": {},
   "source": [
    "Create feature column in the format required by MLLib, add the column to the DataFrame."
   ]
  },
  {
   "cell_type": "code",
   "execution_count": 8,
   "metadata": {},
   "outputs": [
    {
     "name": "stdout",
     "output_type": "stream",
     "text": [
      "+-----------------+------------------+--------------------+\n",
      "|                Y|                 X|             feature|\n",
      "+-----------------+------------------+--------------------+\n",
      "| 7.50239901442978|  2.11425512255683|  [2.11425512255683]|\n",
      "| 10.5947555769349|  3.10559802345624|  [3.10559802345624]|\n",
      "|-5.78978343620361|  1.46942494775544|  [1.46942494775544]|\n",
      "|-4.63079032995852|-0.560738144475622|[-0.560738144475622]|\n",
      "| 7.68382624234006|   4.1761551637828|   [4.1761551637828]|\n",
      "+-----------------+------------------+--------------------+\n",
      "only showing top 5 rows\n",
      "\n"
     ]
    }
   ],
   "source": [
    "assembler=VectorAssembler(inputCols=[\"X\"],outputCol=\"feature\")\n",
    "df_ready=assembler.transform(df)\n",
    "df_ready.show(5)"
   ]
  },
  {
   "cell_type": "markdown",
   "metadata": {},
   "source": [
    "Fit linear regression model using `Y` as response and column `\"feature\"` as predictor. "
   ]
  },
  {
   "cell_type": "code",
   "execution_count": 9,
   "metadata": {
    "collapsed": true
   },
   "outputs": [],
   "source": [
    "lr = LinearRegression(maxIter=5, regParam=0.0, solver=\"normal\", \\\n",
    "                      featuresCol=\"feature\",labelCol=\"Y\")\n",
    "model = lr.fit(df_ready)"
   ]
  },
  {
   "cell_type": "markdown",
   "metadata": {},
   "source": [
    "<font color=red>**Assignment**</font> <br>\n",
    "\n",
    "<font color=blue>\n",
    "Check the results of the fit.\n",
    "\n",
    "Enter code in the following cell to extract the resuots:\n",
    "\n",
    "Slope = [2.27430797339] <br>\n",
    "Intercept = -0.33889618627019147 <br>\n",
    "Coefficients SDE = [0.17337237441771894, 0.6109185962561043] <br>\n",
    "T-values = [13.118052867600806, -0.5547321498265902] <br>\n",
    "P-values = [0.0, 0.5803417579866024] <br>\n",
    "DF = 98 <br>\n",
    "R2 = 0.6371489981233505 <br>\n",
    "Explained Variance = 18.55694691884005 <br>\n",
    "Residuals: <br>\n",
    "+-------------------+ <br>\n",
    "|          residuals| <br>\n",
    "+-------------------+ <br>\n",
    "|  3.032827917681728| <br>\n",
    "| 3.8705654163046566| <br>\n",
    "| -8.792812124916383| <br>\n",
    "| -3.016602910721759| <br>\n",
    "|-1.4751405585078148| <br>\n",
    "+-------------------+ <br>\n",
    "only showing top 5 rows <br>"
   ]
  },
  {
   "cell_type": "code",
   "execution_count": 21,
   "metadata": {},
   "outputs": [
    {
     "name": "stdout",
     "output_type": "stream",
     "text": [
      "Slope = [2.27430797339]\n",
      "Intercept= -0.33889618627019147\n",
      "Coefficients SDE = [0.17337237441771894, 0.6109185962561043]\n",
      "T-values= [13.118052867600806, -0.5547321498265902]\n",
      "P-values= [0.0, 0.5803417579866024]\n",
      "DF = 98\n",
      "R2 = 0.6371489981233505\n",
      "Explained variance = 18.55694691884005\n",
      "Residuals\n",
      "+-------------------+\n",
      "|          residuals|\n",
      "+-------------------+\n",
      "|  3.032827917681728|\n",
      "| 3.8705654163046566|\n",
      "| -8.792812124916383|\n",
      "| -3.016602910721759|\n",
      "|-1.4751405585078148|\n",
      "+-------------------+\n",
      "only showing top 5 rows\n",
      "\n"
     ]
    }
   ],
   "source": [
    "print('Slope = %s' % model.coefficients)\n",
    "print('Intercept= %s' % model.intercept)\n",
    "print('Coefficients SDE = %s' % model.summary.coefficientStandardErrors)\n",
    "print('T-values= %s' % model.summary.tValues)\n",
    "print('P-values= %s' % model.summary.pValues)\n",
    "print('DF = %s' % model.summary.degreesOfFreedom)\n",
    "print('R2 = %s' % model.summary.r2)\n",
    "print('Explained variance = %s' % model.summary.explainedVariance)\n",
    "print('Residuals')\n",
    "model.summary.residuals.show(5)"
   ]
  },
  {
   "cell_type": "markdown",
   "metadata": {},
   "source": [
    "Plot histogram of residuals to see shape of distribution for the residuals.\n",
    "Transform column of residuals from DataFrame to python list and use function `hist()` from `matplotlib`."
   ]
  },
  {
   "cell_type": "code",
   "execution_count": 22,
   "metadata": {},
   "outputs": [
    {
     "data": {
      "text/plain": [
       "<matplotlib.text.Text at 0x23438c826d8>"
      ]
     },
     "execution_count": 22,
     "metadata": {},
     "output_type": "execute_result"
    },
    {
     "data": {
      "image/png": "[encoded data removed]",
      "text/plain": [
       "<matplotlib.figure.Figure at 0x23438c05be0>"
      ]
     },
     "metadata": {},
     "output_type": "display_data"
    }
   ],
   "source": [
    "plt.hist(model.summary.residuals.rdd.flatMap(lambda x:x).collect())\n",
    "plt.title('Histogram of residuals')"
   ]
  },
  {
   "cell_type": "markdown",
   "metadata": {},
   "source": [
    "## Slice localization example\n",
    "\n",
    "Use data from Machine Learning (MScA, 31009).\n",
    "The project is based on [Lichman, M. (2013). UCI Machine Learning Repository. Irvine, CA: University of California, School of Information and Computer Science](http://archive.ics.uci.edu/ml/index.php).\n",
    "\n",
    "The project name is [elative location of CT slices on axial axis Data Set](https://archive.ics.uci.edu/ml/datasets/Relative+location+of+CT+slices+on+axial+axis).\n",
    "\n",
    "The data contain 384 features extracted from 53,500 CT images from 74 patients.\n",
    "Each record characterizes a slice of an image.\n",
    "Each CT slice is described by two histograms in polar space. The first histogram describes the location of bone structures in the image, the second the location of air inclusions inside of the body.\n",
    "Both histograms are concatenated to form the final feature vector of length 384.\n",
    "The class output variable is numeric and denotes the relative location of the CT slice on the axial axis of the human body.\n",
    "\n",
    "The column information:\n",
    "\n",
    "1:  PatientId: Each ID identifies a different patient <br>\n",
    "2-241: Histogram describing bone structures <br>\n",
    "242-385: Histogram describing air inclusions >br>\n",
    "386: Reference: Relative location of the image on the axial axis (class value). Values are in the range [0; 180] where 0 denotes the top of the head and 180 the soles of the feet.\n",
    "\n",
    "It is important to predict location of the slice using the features because when 2 or more scans are compared or in general it is necessary to navigate to a certain part of the body, the whole scan (about 1 Gb) needs to be loaded over clinical network and then the required slice is usually identified manually.\n",
    "\n",
    "The data are in the file `slice_Localization/slice_localization_data.csv`.\n"
   ]
  },
  {
   "cell_type": "markdown",
   "metadata": {},
   "source": [
    "Create RDD `firstLook` to understand the structure of the file before reading it as DataFrame."
   ]
  },
  {
   "cell_type": "code",
   "execution_count": null,
   "metadata": {
    "collapsed": true
   },
   "outputs": [],
   "source": [
    "firstLook=sc.textFile('./slice_Localization/slice_localization_data.csv')\n",
    "print('Number of rows: %s' %firstLook.count())\n",
    "print('Row 1:')\n",
    "print(firstLook.take(2)[0][0:87])\n",
    "print('Row 2:')\n",
    "print(firstLook.take(2)[1][0:86])\n",
    "print('Number of columns: %s' % len(firstLook.first().split(',')))\n",
    "print(firstLook.first().split(',')[380:386])"
   ]
  },
  {
   "cell_type": "markdown",
   "metadata": {},
   "source": [
    "The file consists of 53501 string records, the first of them looks like column names.\n",
    "Number of columns is 386, column 1 is patient Id, column 386 is the response (location) and the rest of columns are features numbered from 0."
   ]
  },
  {
   "cell_type": "markdown",
   "metadata": {},
   "source": [
    "Check the format of the header"
   ]
  },
  {
   "cell_type": "code",
   "execution_count": null,
   "metadata": {
    "collapsed": true
   },
   "outputs": [],
   "source": [
    "header=firstLook.first().split(',')\n",
    "print('First columns: %s' %header[0:5])\n",
    "print('Last columns: %s' %header[381:387])"
   ]
  },
  {
   "cell_type": "markdown",
   "metadata": {},
   "source": [
    "Now read the data as DataFrame."
   ]
  },
  {
   "cell_type": "code",
   "execution_count": 23,
   "metadata": {},
   "outputs": [
    {
     "name": "stdout",
     "output_type": "stream",
     "text": [
      "DataFrame number of rows = 53500 , number of columns = 386\n",
      "+---------+------+------+------+------+------+------+------+------+------+\n",
      "|patientId|value0|value1|value2|value3|value4|value5|value6|value7|value8|\n",
      "+---------+------+------+------+------+------+------+------+------+------+\n",
      "|        0|   0.0|   0.0|   0.0|   0.0|   0.0|   0.0| -0.25| -0.25| -0.25|\n",
      "|        0|   0.0|   0.0|   0.0|   0.0|   0.0|   0.0| -0.25| -0.25| -0.25|\n",
      "|        0|   0.0|   0.0|   0.0|   0.0|   0.0|   0.0| -0.25| -0.25| -0.25|\n",
      "|        0|   0.0|   0.0|   0.0|   0.0|   0.0|   0.0| -0.25| -0.25| -0.25|\n",
      "|        0|   0.0|   0.0|   0.0|   0.0|   0.0|   0.0| -0.25| -0.25| -0.25|\n",
      "+---------+------+------+------+------+------+------+------+------+------+\n",
      "only showing top 5 rows\n",
      "\n"
     ]
    }
   ],
   "source": [
    "df = spark.read.csv('./slice_localization_data.csv', \\\n",
    "                    sep = ',',header=True,inferSchema=True)\n",
    "print('DataFrame number of rows = %s , number of columns = %s' % (df.count(),len(df.columns)))\n",
    "df.select(df.columns[0:10]).show(5)"
   ]
  },
  {
   "cell_type": "markdown",
   "metadata": {},
   "source": [
    "Check inferred schema:"
   ]
  },
  {
   "cell_type": "markdown",
   "metadata": {},
   "source": [
    "`df.printSchema()` <br>\n",
    "root <nb>\n",
    " |-- patientId: integer (nullable = true) <br>\n",
    " |-- value0: double (nullable = true) <br>\n",
    " |-- value1: double (nullable = true) <br>\n",
    " |-- value2: double (nullable = true) <br>\n",
    " |-- value3: double (nullable = true) <br>\n",
    " |-- value4: double (nullable = true) <br>\n",
    " |-- value5: double (nullable = true) <br>\n",
    " |-- value6: double (nullable = true) <br>"
   ]
  },
  {
   "cell_type": "markdown",
   "metadata": {},
   "source": [
    "How many unique `patientID` values are in the data?"
   ]
  },
  {
   "cell_type": "code",
   "execution_count": 24,
   "metadata": {},
   "outputs": [
    {
     "name": "stdout",
     "output_type": "stream",
     "text": [
      "[0, 1, 2, 3, 4, 5, 6, 7, 8, 9, 10, 11, 12, 13, 14, 15, 16, 17, 18, 19, 20, 21, 22, 23, 24, 25, 26, 27, 28, 29, 30, 31, 32, 33, 34, 35, 36, 37, 38, 39, 40, 41, 42, 43, 44, 45, 46, 47, 48, 49, 50, 51, 52, 53, 54, 55, 56, 57, 58, 59, 60, 61, 62, 63, 64, 65, 66, 67, 68, 69, 70, 71, 72, 73, 74, 75, 76, 77, 78, 79, 80, 81, 82, 83, 84, 85, 86, 87, 88, 89, 90, 91, 92, 93, 94, 95, 96]\n"
     ]
    }
   ],
   "source": [
    "df.dropDuplicates(['patientId']).select('patientId').collect()\n",
    "print(sorted(df.select('patientId').distinct().rdd.map(lambda r: r[0]).collect()))\n",
    "# 97patient Ids (including 0)"
   ]
  },
  {
   "cell_type": "markdown",
   "metadata": {},
   "source": [
    "<font color=red>**Assignment**</font> <br>\n",
    "\n",
    "<font color=blue>\n",
    "Prepare column `\"feature\"` to fit regression model.\n",
    "\n",
    "Enter code creating DataFrame `'df_ready'` with additional column named `'feature'` in the following cell.\n",
    "\n",
    "Last column names should look like this:\n",
    "\n",
    "['value379', 'value380', 'value381', 'value382', 'value383', 'reference', 'feature']\n",
    "\n",
    "Last columns should look like this:\n",
    "\n",
    "+--------+--------+--------+--------+--------+---------+--------------------+ <br>\n",
    "|value379|value380|value381|value382|value383|reference|             feature| <br>\n",
    "+--------+--------+--------+--------+--------+---------+--------------------+ <br>\n",
    "|     0.0|     0.0|     0.0|   -0.25|   -0.25|21.803851|(384,[6,7,8,9,13,...| <br>\n",
    "|     0.0|     0.0|     0.0|   -0.25|   -0.25|21.745726|(384,[6,7,8,9,13,...| <br>\n",
    "|     0.0|     0.0|     0.0|   -0.25|   -0.25|  21.6876|(384,[6,7,8,9,13,...| <br>\n",
    "|     0.0|     0.0|     0.0|   -0.25|   -0.25|21.629474|(384,[6,7,8,9,13,...| <br>\n",
    "|     0.0|     0.0|     0.0|   -0.25|   -0.25|21.571348|(384,[6,7,8,9,13,...| <br>\n",
    "|     0.0|     0.0|     0.0|   -0.25|   -0.25|21.513223|(384,[6,7,8,9,13,...| <br>\n",
    "|     0.0|     0.0|     0.0|   -0.25|   -0.25|21.455097|(384,[6,7,8,9,13,...| <br>\n",
    "|     0.0|     0.0|     0.0|   -0.25|   -0.25|21.396971|(384,[6,7,8,9,13,...| <br>\n",
    "|     0.0|     0.0|     0.0|   -0.25|   -0.25| 21.28072|(384,[6,7,8,9,13,...| <br>\n",
    "|     0.0|     0.0|     0.0|   -0.25|   -0.25|22.617612|(384,[6,7,8,9,11,...| <br>\n",
    "+--------+--------+--------+--------+--------+---------+--------------------+ <br>\n",
    "only showing top 10 rows <br>\n"
   ]
  },
  {
   "cell_type": "code",
   "execution_count": 35,
   "metadata": {},
   "outputs": [
    {
     "name": "stdout",
     "output_type": "stream",
     "text": [
      "+--------+--------+--------+--------+--------+---------+--------------------+\n",
      "|value379|value380|value381|value382|value383|reference|             feature|\n",
      "+--------+--------+--------+--------+--------+---------+--------------------+\n",
      "|     0.0|     0.0|     0.0|   -0.25|   -0.25|21.803851|(386,[7,8,9,10,14...|\n",
      "|     0.0|     0.0|     0.0|   -0.25|   -0.25|21.745726|(386,[7,8,9,10,14...|\n",
      "|     0.0|     0.0|     0.0|   -0.25|   -0.25|  21.6876|(386,[7,8,9,10,14...|\n",
      "|     0.0|     0.0|     0.0|   -0.25|   -0.25|21.629474|(386,[7,8,9,10,14...|\n",
      "|     0.0|     0.0|     0.0|   -0.25|   -0.25|21.571348|(386,[7,8,9,10,14...|\n",
      "|     0.0|     0.0|     0.0|   -0.25|   -0.25|21.513223|(386,[7,8,9,10,14...|\n",
      "|     0.0|     0.0|     0.0|   -0.25|   -0.25|21.455097|(386,[7,8,9,10,14...|\n",
      "|     0.0|     0.0|     0.0|   -0.25|   -0.25|21.396971|(386,[7,8,9,10,14...|\n",
      "|     0.0|     0.0|     0.0|   -0.25|   -0.25| 21.28072|(386,[7,8,9,10,14...|\n",
      "|     0.0|     0.0|     0.0|   -0.25|   -0.25|22.617612|(386,[7,8,9,10,12...|\n",
      "+--------+--------+--------+--------+--------+---------+--------------------+\n",
      "only showing top 10 rows\n",
      "\n"
     ]
    }
   ],
   "source": [
    "#Skipped code\n",
    "assembler=VectorAssembler(inputCols=df.columns,outputCol=\"feature\")\n",
    "df_ready=assembler.transform(df)\n",
    "# Use sql to display last columns\n",
    "sqlContext.registerDataFrameAsTable(df_ready, \"table1\")\n",
    "df2 = sqlContext.sql(\"SELECT value379,value380,value381,value382,value383, reference, feature from table1\")\n",
    "df2.show(10)"
   ]
  },
  {
   "cell_type": "markdown",
   "metadata": {},
   "source": [
    "<font color=blue>\n",
    "Create linear regression object and fit the model.  <br>\n",
    "Enter code in the following cell."
   ]
  },
  {
   "cell_type": "code",
   "execution_count": 37,
   "metadata": {},
   "outputs": [],
   "source": [
    "#Skipped code\n",
    "lr = LinearRegression(maxIter=5, regParam=0.0, solver=\"normal\", \\\n",
    "                      featuresCol=\"feature\",labelCol=\"reference\")\n",
    "model = lr.fit(df_ready)"
   ]
  },
  {
   "cell_type": "markdown",
   "metadata": {},
   "source": [
    "<font color=blue>\n",
    "\n",
    "Print First 20 slopes and intercept, coefficients standard deviations, t-values and p-values, \n",
    "residual degrees of freedom, R2 and explained variance, show first 5 residuals.\n",
    "If any of the parameters cannot be printed find the reason by reading diagnostics.\n",
    "Describe the reason.\n",
    "Enter code in the following cell."
   ]
  },
  {
   "cell_type": "code",
   "execution_count": 50,
   "metadata": {},
   "outputs": [
    {
     "name": "stdout",
     "output_type": "stream",
     "text": [
      "Slope = [  3.41301981e-03  -2.31515214e+00  -5.64091534e-01   2.74395224e-01\n",
      "   1.55662899e+00   2.36847887e+00   1.66947874e+00   2.58334421e-01\n",
      "  -8.47885306e-01  -1.70793657e+00  -3.60528312e+00  -1.51502094e+00\n",
      "   8.48567933e-02   1.06743732e-01   5.22194150e-01   1.00499528e+00\n",
      "   7.79365632e-01   1.67416263e-01  -1.43108478e+00  -3.49731101e-01]\n",
      "Intercept= 38.235409185796584\n",
      "DF = 53113\n",
      "R2 = 0.8460246695823692\n",
      "Explained variance = 427.2017482319014\n",
      "Residuals\n",
      "+-------------------+\n",
      "|          residuals|\n",
      "+-------------------+\n",
      "| 0.7169016016422631|\n",
      "|0.18345744667017883|\n",
      "| 0.1615272984092151|\n",
      "| 1.2219591151481808|\n",
      "| 1.1212398275776252|\n",
      "+-------------------+\n",
      "only showing top 5 rows\n",
      "\n"
     ]
    }
   ],
   "source": [
    "#Skipped code\n",
    "print('Slope = %s' % model.coefficients[:20])\n",
    "print('Intercept= %s' % model.intercept)\n",
    "#print('Coefficients SDE = %s' % model.summary.coefficientStandardErrors)\n",
    "#print('T-values= %s' % model.summary.tValues)\n",
    "#print('P-values= %s' % model.summary.pValues)\n",
    "print('DF = %s' % model.summary.degreesOfFreedom)\n",
    "print('R2 = %s' % model.summary.r2)\n",
    "print('Explained variance = %s' % model.summary.explainedVariance)\n",
    "print('Residuals')\n",
    "model.summary.residuals.show(5)\n",
    "# Coeff SD, tvalue and pvalues cannot be displayed because....."
   ]
  },
  {
   "cell_type": "code",
   "execution_count": 58,
   "metadata": {},
   "outputs": [
    {
     "ename": "Py4JJavaError",
     "evalue": "An error occurred while calling o747.tValues.\n: java.lang.UnsupportedOperationException: No t-statistic available for this LinearRegressionModel\r\n\tat org.apache.spark.ml.regression.LinearRegressionSummary.tValues$lzycompute(LinearRegression.scala:764)\r\n\tat org.apache.spark.ml.regression.LinearRegressionSummary.tValues(LinearRegression.scala:762)\r\n\tat sun.reflect.NativeMethodAccessorImpl.invoke0(Native Method)\r\n\tat sun.reflect.NativeMethodAccessorImpl.invoke(NativeMethodAccessorImpl.java:62)\r\n\tat sun.reflect.DelegatingMethodAccessorImpl.invoke(DelegatingMethodAccessorImpl.java:43)\r\n\tat java.lang.reflect.Method.invoke(Method.java:498)\r\n\tat py4j.reflection.MethodInvoker.invoke(MethodInvoker.java:244)\r\n\tat py4j.reflection.ReflectionEngine.invoke(ReflectionEngine.java:357)\r\n\tat py4j.Gateway.invoke(Gateway.java:280)\r\n\tat py4j.commands.AbstractCommand.invokeMethod(AbstractCommand.java:132)\r\n\tat py4j.commands.CallCommand.execute(CallCommand.java:79)\r\n\tat py4j.GatewayConnection.run(GatewayConnection.java:214)\r\n\tat java.lang.Thread.run(Thread.java:748)\r\n",
     "output_type": "error",
     "traceback": [
      "\u001b[0;31m---------------------------------------------------------------------------\u001b[0m",
      "\u001b[0;31mPy4JJavaError\u001b[0m                             Traceback (most recent call last)",
      "\u001b[0;32m<ipython-input-58-602186505ea3>\u001b[0m in \u001b[0;36m<module>\u001b[0;34m()\u001b[0m\n\u001b[1;32m      1\u001b[0m \u001b[1;31m#print('Coefficients SDE = %s' % model.summary.coefficientStandardErrors)\u001b[0m\u001b[1;33m\u001b[0m\u001b[1;33m\u001b[0m\u001b[0m\n\u001b[0;32m----> 2\u001b[0;31m \u001b[0mprint\u001b[0m\u001b[1;33m(\u001b[0m\u001b[1;34m'T-values= %s'\u001b[0m \u001b[1;33m%\u001b[0m \u001b[0mmodel\u001b[0m\u001b[1;33m.\u001b[0m\u001b[0msummary\u001b[0m\u001b[1;33m.\u001b[0m\u001b[0mtValues\u001b[0m\u001b[1;33m)\u001b[0m\u001b[1;33m\u001b[0m\u001b[0m\n\u001b[0m\u001b[1;32m      3\u001b[0m \u001b[1;31m#print('P-values= %s' % model.summary.pValues)\u001b[0m\u001b[1;33m\u001b[0m\u001b[1;33m\u001b[0m\u001b[0m\n",
      "\u001b[0;32mC:\\dev\\spark-2.2.0-bin-hadoop2.7\\spark-2.2.0-bin-hadoop2.7\\python\\pyspark\\ml\\regression.py\u001b[0m in \u001b[0;36mtValues\u001b[0;34m(self)\u001b[0m\n\u001b[1;32m    367\u001b[0m         \u001b[1;33m.\u001b[0m\u001b[1;33m.\u001b[0m \u001b[0mseealso\u001b[0m\u001b[1;33m:\u001b[0m\u001b[1;33m:\u001b[0m \u001b[1;33m:\u001b[0m\u001b[0mpy\u001b[0m\u001b[1;33m:\u001b[0m\u001b[0mattr\u001b[0m\u001b[1;33m:\u001b[0m\u001b[0;31m`\u001b[0m\u001b[0mLinearRegression\u001b[0m\u001b[1;33m.\u001b[0m\u001b[0msolver\u001b[0m\u001b[0;31m`\u001b[0m\u001b[1;33m\u001b[0m\u001b[0m\n\u001b[1;32m    368\u001b[0m         \"\"\"\n\u001b[0;32m--> 369\u001b[0;31m         \u001b[1;32mreturn\u001b[0m \u001b[0mself\u001b[0m\u001b[1;33m.\u001b[0m\u001b[0m_call_java\u001b[0m\u001b[1;33m(\u001b[0m\u001b[1;34m\"tValues\"\u001b[0m\u001b[1;33m)\u001b[0m\u001b[1;33m\u001b[0m\u001b[0m\n\u001b[0m\u001b[1;32m    370\u001b[0m \u001b[1;33m\u001b[0m\u001b[0m\n\u001b[1;32m    371\u001b[0m     \u001b[1;33m@\u001b[0m\u001b[0mproperty\u001b[0m\u001b[1;33m\u001b[0m\u001b[0m\n",
      "\u001b[0;32mC:\\dev\\spark-2.2.0-bin-hadoop2.7\\spark-2.2.0-bin-hadoop2.7\\python\\pyspark\\ml\\wrapper.py\u001b[0m in \u001b[0;36m_call_java\u001b[0;34m(self, name, *args)\u001b[0m\n\u001b[1;32m     49\u001b[0m         \u001b[0msc\u001b[0m \u001b[1;33m=\u001b[0m \u001b[0mSparkContext\u001b[0m\u001b[1;33m.\u001b[0m\u001b[0m_active_spark_context\u001b[0m\u001b[1;33m\u001b[0m\u001b[0m\n\u001b[1;32m     50\u001b[0m         \u001b[0mjava_args\u001b[0m \u001b[1;33m=\u001b[0m \u001b[1;33m[\u001b[0m\u001b[0m_py2java\u001b[0m\u001b[1;33m(\u001b[0m\u001b[0msc\u001b[0m\u001b[1;33m,\u001b[0m \u001b[0marg\u001b[0m\u001b[1;33m)\u001b[0m \u001b[1;32mfor\u001b[0m \u001b[0marg\u001b[0m \u001b[1;32min\u001b[0m \u001b[0margs\u001b[0m\u001b[1;33m]\u001b[0m\u001b[1;33m\u001b[0m\u001b[0m\n\u001b[0;32m---> 51\u001b[0;31m         \u001b[1;32mreturn\u001b[0m \u001b[0m_java2py\u001b[0m\u001b[1;33m(\u001b[0m\u001b[0msc\u001b[0m\u001b[1;33m,\u001b[0m \u001b[0mm\u001b[0m\u001b[1;33m(\u001b[0m\u001b[1;33m*\u001b[0m\u001b[0mjava_args\u001b[0m\u001b[1;33m)\u001b[0m\u001b[1;33m)\u001b[0m\u001b[1;33m\u001b[0m\u001b[0m\n\u001b[0m\u001b[1;32m     52\u001b[0m \u001b[1;33m\u001b[0m\u001b[0m\n\u001b[1;32m     53\u001b[0m     \u001b[1;33m@\u001b[0m\u001b[0mstaticmethod\u001b[0m\u001b[1;33m\u001b[0m\u001b[0m\n",
      "\u001b[0;32mC:\\dev\\spark-2.2.0-bin-hadoop2.7\\spark-2.2.0-bin-hadoop2.7\\python\\lib\\py4j-0.10.4-src.zip\\py4j\\java_gateway.py\u001b[0m in \u001b[0;36m__call__\u001b[0;34m(self, *args)\u001b[0m\n\u001b[1;32m   1131\u001b[0m         \u001b[0manswer\u001b[0m \u001b[1;33m=\u001b[0m \u001b[0mself\u001b[0m\u001b[1;33m.\u001b[0m\u001b[0mgateway_client\u001b[0m\u001b[1;33m.\u001b[0m\u001b[0msend_command\u001b[0m\u001b[1;33m(\u001b[0m\u001b[0mcommand\u001b[0m\u001b[1;33m)\u001b[0m\u001b[1;33m\u001b[0m\u001b[0m\n\u001b[1;32m   1132\u001b[0m         return_value = get_return_value(\n\u001b[0;32m-> 1133\u001b[0;31m             answer, self.gateway_client, self.target_id, self.name)\n\u001b[0m\u001b[1;32m   1134\u001b[0m \u001b[1;33m\u001b[0m\u001b[0m\n\u001b[1;32m   1135\u001b[0m         \u001b[1;32mfor\u001b[0m \u001b[0mtemp_arg\u001b[0m \u001b[1;32min\u001b[0m \u001b[0mtemp_args\u001b[0m\u001b[1;33m:\u001b[0m\u001b[1;33m\u001b[0m\u001b[0m\n",
      "\u001b[0;32mC:\\dev\\spark-2.2.0-bin-hadoop2.7\\spark-2.2.0-bin-hadoop2.7\\python\\pyspark\\sql\\utils.py\u001b[0m in \u001b[0;36mdeco\u001b[0;34m(*a, **kw)\u001b[0m\n\u001b[1;32m     61\u001b[0m     \u001b[1;32mdef\u001b[0m \u001b[0mdeco\u001b[0m\u001b[1;33m(\u001b[0m\u001b[1;33m*\u001b[0m\u001b[0ma\u001b[0m\u001b[1;33m,\u001b[0m \u001b[1;33m**\u001b[0m\u001b[0mkw\u001b[0m\u001b[1;33m)\u001b[0m\u001b[1;33m:\u001b[0m\u001b[1;33m\u001b[0m\u001b[0m\n\u001b[1;32m     62\u001b[0m         \u001b[1;32mtry\u001b[0m\u001b[1;33m:\u001b[0m\u001b[1;33m\u001b[0m\u001b[0m\n\u001b[0;32m---> 63\u001b[0;31m             \u001b[1;32mreturn\u001b[0m \u001b[0mf\u001b[0m\u001b[1;33m(\u001b[0m\u001b[1;33m*\u001b[0m\u001b[0ma\u001b[0m\u001b[1;33m,\u001b[0m \u001b[1;33m**\u001b[0m\u001b[0mkw\u001b[0m\u001b[1;33m)\u001b[0m\u001b[1;33m\u001b[0m\u001b[0m\n\u001b[0m\u001b[1;32m     64\u001b[0m         \u001b[1;32mexcept\u001b[0m \u001b[0mpy4j\u001b[0m\u001b[1;33m.\u001b[0m\u001b[0mprotocol\u001b[0m\u001b[1;33m.\u001b[0m\u001b[0mPy4JJavaError\u001b[0m \u001b[1;32mas\u001b[0m \u001b[0me\u001b[0m\u001b[1;33m:\u001b[0m\u001b[1;33m\u001b[0m\u001b[0m\n\u001b[1;32m     65\u001b[0m             \u001b[0ms\u001b[0m \u001b[1;33m=\u001b[0m \u001b[0me\u001b[0m\u001b[1;33m.\u001b[0m\u001b[0mjava_exception\u001b[0m\u001b[1;33m.\u001b[0m\u001b[0mtoString\u001b[0m\u001b[1;33m(\u001b[0m\u001b[1;33m)\u001b[0m\u001b[1;33m\u001b[0m\u001b[0m\n",
      "\u001b[0;32mC:\\dev\\spark-2.2.0-bin-hadoop2.7\\spark-2.2.0-bin-hadoop2.7\\python\\lib\\py4j-0.10.4-src.zip\\py4j\\protocol.py\u001b[0m in \u001b[0;36mget_return_value\u001b[0;34m(answer, gateway_client, target_id, name)\u001b[0m\n\u001b[1;32m    317\u001b[0m                 raise Py4JJavaError(\n\u001b[1;32m    318\u001b[0m                     \u001b[1;34m\"An error occurred while calling {0}{1}{2}.\\n\"\u001b[0m\u001b[1;33m.\u001b[0m\u001b[1;33m\u001b[0m\u001b[0m\n\u001b[0;32m--> 319\u001b[0;31m                     format(target_id, \".\", name), value)\n\u001b[0m\u001b[1;32m    320\u001b[0m             \u001b[1;32melse\u001b[0m\u001b[1;33m:\u001b[0m\u001b[1;33m\u001b[0m\u001b[0m\n\u001b[1;32m    321\u001b[0m                 raise Py4JError(\n",
      "\u001b[0;31mPy4JJavaError\u001b[0m: An error occurred while calling o747.tValues.\n: java.lang.UnsupportedOperationException: No t-statistic available for this LinearRegressionModel\r\n\tat org.apache.spark.ml.regression.LinearRegressionSummary.tValues$lzycompute(LinearRegression.scala:764)\r\n\tat org.apache.spark.ml.regression.LinearRegressionSummary.tValues(LinearRegression.scala:762)\r\n\tat sun.reflect.NativeMethodAccessorImpl.invoke0(Native Method)\r\n\tat sun.reflect.NativeMethodAccessorImpl.invoke(NativeMethodAccessorImpl.java:62)\r\n\tat sun.reflect.DelegatingMethodAccessorImpl.invoke(DelegatingMethodAccessorImpl.java:43)\r\n\tat java.lang.reflect.Method.invoke(Method.java:498)\r\n\tat py4j.reflection.MethodInvoker.invoke(MethodInvoker.java:244)\r\n\tat py4j.reflection.ReflectionEngine.invoke(ReflectionEngine.java:357)\r\n\tat py4j.Gateway.invoke(Gateway.java:280)\r\n\tat py4j.commands.AbstractCommand.invokeMethod(AbstractCommand.java:132)\r\n\tat py4j.commands.CallCommand.execute(CallCommand.java:79)\r\n\tat py4j.GatewayConnection.run(GatewayConnection.java:214)\r\n\tat java.lang.Thread.run(Thread.java:748)\r\n"
     ]
    }
   ],
   "source": [
    "#print('Coefficients SDE = %s' % model.summary.coefficientStandardErrors)\n",
    "#print('T-values= %s' % model.summary.tValues)\n",
    "#print('P-values= %s' % model.summary.pValues)\n",
    "# MLlIB is usint the mtm method of linear projection, which involves inverting a matrix. Since this matrix is non \n",
    "# invertible ang gives up, and switches to a different method which doesn't provide distributions\n",
    "# for the coefficients"
   ]
  },
  {
   "cell_type": "markdown",
   "metadata": {},
   "source": [
    "<font color=blue>\n",
    "Plot histogram of residuals. <br>\n",
    "Enter code in the following cell."
   ]
  },
  {
   "cell_type": "code",
   "execution_count": 51,
   "metadata": {},
   "outputs": [
    {
     "data": {
      "text/plain": [
       "<matplotlib.text.Text at 0x23439125a58>"
      ]
     },
     "execution_count": 51,
     "metadata": {},
     "output_type": "execute_result"
    },
    {
     "data": {
      "image/png": "[encoded data removed]",
      "text/plain": [
       "<matplotlib.figure.Figure at 0x23438e47470>"
      ]
     },
     "metadata": {},
     "output_type": "display_data"
    }
   ],
   "source": [
    "#Skipped code\n",
    "plt.hist(model.summary.residuals.rdd.flatMap(lambda x:x).collect())\n",
    "plt.title('Histogram of residuals')"
   ]
  },
  {
   "cell_type": "markdown",
   "metadata": {},
   "source": [
    "<font color=blue>\n",
    "Plot estimated coefficients. <br>\n",
    "Enter code in the following cell"
   ]
  },
  {
   "cell_type": "code",
   "execution_count": 56,
   "metadata": {},
   "outputs": [
    {
     "data": {
      "text/plain": [
       "<matplotlib.text.Text at 0x2343e950320>"
      ]
     },
     "execution_count": 56,
     "metadata": {},
     "output_type": "execute_result"
    },
    {
     "data": {
      "image/png": "[encoded data removed]",
      "text/plain": [
       "<matplotlib.figure.Figure at 0x2343e8a1b70>"
      ]
     },
     "metadata": {},
     "output_type": "display_data"
    }
   ],
   "source": [
    "#Skipped code\n",
    "plt.plot(model.coefficients,'o')\n",
    "plt.title('Plot of coefficients')"
   ]
  }
 ],
 "metadata": {
  "anaconda-cloud": {},
  "kernelspec": {
   "display_name": "Python 3",
   "language": "python",
   "name": "python3"
  },
  "language_info": {
   "codemirror_mode": {
    "name": "ipython",
    "version": 3
   },
   "file_extension": ".py",
   "mimetype": "text/x-python",
   "name": "python",
   "nbconvert_exporter": "python",
   "pygments_lexer": "ipython3",
   "version": "3.6.2"
  }
 },
 "nbformat": 4,
 "nbformat_minor": 2
}
