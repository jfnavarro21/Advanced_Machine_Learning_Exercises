{
 "cells": [
  {
   "cell_type": "markdown",
   "metadata": {},
   "source": [
    "# Advanced Machine Learning (MScA, 32017)\n",
    "\n",
    "# Project Recommending Music with Audioscrobbler Data\n",
    "\n",
    "### Yuri Balasanov, Mihail Tselishchev, &copy; iLykei 2017\n",
    "\n",
    "## Exploring Audioscrobbler (lastfm) data"
   ]
  },
  {
   "cell_type": "code",
   "execution_count": 15,
   "metadata": {},
   "outputs": [],
   "source": [
    "%matplotlib inline\n",
    "import numpy as np\n",
    "import matplotlib.pyplot as plt\n",
    "from pyspark.sql.types import StructType, StructField, DoubleType, LongType, StringType, Row\n",
    "import pyspark.sql.functions as func"
   ]
  },
  {
   "cell_type": "code",
   "execution_count": 16,
   "metadata": {},
   "outputs": [
    {
     "data": {
      "text/html": [
       "\n",
       "            <div>\n",
       "                <p><b>SparkSession - hive</b></p>\n",
       "                \n",
       "        <div>\n",
       "            <p><b>SparkContext</b></p>\n",
       "\n",
       "            <p><a href=\"http://192.168.1.53:4040\">Spark UI</a></p>\n",
       "\n",
       "            <dl>\n",
       "              <dt>Version</dt>\n",
       "                <dd><code>v2.2.0</code></dd>\n",
       "              <dt>Master</dt>\n",
       "                <dd><code>local[*]</code></dd>\n",
       "              <dt>AppName</dt>\n",
       "                <dd><code>PySparkShell</code></dd>\n",
       "            </dl>\n",
       "        </div>\n",
       "        \n",
       "            </div>\n",
       "        "
      ],
      "text/plain": [
       "<pyspark.sql.session.SparkSession at 0x228c2b14978>"
      ]
     },
     "execution_count": 16,
     "metadata": {},
     "output_type": "execute_result"
    }
   ],
   "source": [
    "from pyspark.sql import SparkSession\n",
    "spark = SparkSession.builder.getOrCreate()\n",
    "spark"
   ]
  },
  {
   "cell_type": "markdown",
   "metadata": {},
   "source": [
    "Read data"
   ]
  },
  {
   "cell_type": "code",
   "execution_count": 17,
   "metadata": {},
   "outputs": [],
   "source": [
    "# path to files\n",
    "artistdata_path = './artist_data.csv'\n",
    "userartist_path = './user_artist_data_train_small.csv'"
   ]
  },
  {
   "cell_type": "code",
   "execution_count": 18,
   "metadata": {},
   "outputs": [],
   "source": [
    "# Schemas for both files\n",
    "artistdata_struct = StructType([StructField('artistId', LongType()), \\\n",
    "                                StructField('name', StringType())])\n",
    "userartist_struct = StructType([StructField('userId', LongType()), \\\n",
    "                                StructField('artistId', LongType()), \\\n",
    "                                StructField('count', LongType())])"
   ]
  },
  {
   "cell_type": "code",
   "execution_count": 19,
   "metadata": {},
   "outputs": [
    {
     "data": {
      "text/plain": [
       "[Row(artistId=2000001, name='Portishead'),\n",
       " Row(artistId=2000002, name='Air'),\n",
       " Row(artistId=2000003, name='Severed Heads'),\n",
       " Row(artistId=2000004, name='Marianne Faithfull'),\n",
       " Row(artistId=2000005, name='Peace Orchestra'),\n",
       " Row(artistId=2000006, name='Gallon Drunk'),\n",
       " Row(artistId=2000007, name='Breed'),\n",
       " Row(artistId=2000008, name='Omni Trio'),\n",
       " Row(artistId=2000009, name='The Last Poets'),\n",
       " Row(artistId=2000010, name='Rhythm & Sound')]"
      ]
     },
     "execution_count": 19,
     "metadata": {},
     "output_type": "execute_result"
    }
   ],
   "source": [
    "# read artist_data file\n",
    "artistdata_df = spark.read.csv(artistdata_path, sep = '\\t', schema = artistdata_struct)\n",
    "artistdata_df.cache() # uses MEM ONLY\n",
    "artistdata_df.take(10)"
   ]
  },
  {
   "cell_type": "code",
   "execution_count": 20,
   "metadata": {},
   "outputs": [
    {
     "data": {
      "text/plain": [
       "[Row(userId=1000152, artistId=2000001, count=16),\n",
       " Row(userId=1000152, artistId=2000002, count=6),\n",
       " Row(userId=1000152, artistId=2000011, count=4),\n",
       " Row(userId=1000152, artistId=2000015, count=3),\n",
       " Row(userId=1000152, artistId=2000023, count=26),\n",
       " Row(userId=1000152, artistId=2000024, count=24),\n",
       " Row(userId=1000152, artistId=2000026, count=26),\n",
       " Row(userId=1000152, artistId=2000032, count=3),\n",
       " Row(userId=1000152, artistId=2000039, count=96),\n",
       " Row(userId=1000152, artistId=2000044, count=3)]"
      ]
     },
     "execution_count": 20,
     "metadata": {},
     "output_type": "execute_result"
    }
   ],
   "source": [
    "# read user_artist_data file\n",
    "userartist_df = spark.read.csv(userartist_path, sep = '\\t', schema = userartist_struct)\n",
    "userartist_df.cache()\n",
    "userartist_df.take(10)"
   ]
  },
  {
   "cell_type": "markdown",
   "metadata": {},
   "source": [
    "Summary statistics"
   ]
  },
  {
   "cell_type": "code",
   "execution_count": 21,
   "metadata": {},
   "outputs": [
    {
     "name": "stdout",
     "output_type": "stream",
     "text": [
      "+-------+------------------+------------------+------------------+\n",
      "|summary|            userId|          artistId|             count|\n",
      "+-------+------------------+------------------+------------------+\n",
      "|  count|            181733|            181733|            181733|\n",
      "|   mean|1025835.7358707554| 2014691.602301178| 119.9596165803679|\n",
      "| stddev|20632.986231418043|40651.215729566444|1611.7622571739207|\n",
      "|    min|           1000152|           2000001|                 1|\n",
      "|    max|           1098645|           2578763|            439771|\n",
      "+-------+------------------+------------------+------------------+\n",
      "\n"
     ]
    }
   ],
   "source": [
    "# some statistics on user-artist dataframe\n",
    "userartist_df.describe().show() # describe returns summary statistics for numeric columns\n"
   ]
  },
  {
   "cell_type": "markdown",
   "metadata": {},
   "source": [
    "<font color=blue>\n",
    "\n",
    "Find 20 most popular artists.\n",
    "\n",
    "**Hint**: Use the following methods.\n",
    "\n",
    "`DataFrame.groupBy('cols')` - groups DataFrame using the specified columns `cols` to prepare for aggregation on them\n",
    "\n",
    "`GroupedDataFrame.agg(exprs)` - computes aggregates and returns result as a DataFrame. Available aggregate functions are `avg`, `max`, `min`, `sum`, `count`.\n",
    "\n",
    "Use `.join()` to add column of real names of the artists"
   ]
  },
  {
   "cell_type": "code",
   "execution_count": 22,
   "metadata": {},
   "outputs": [
    {
     "name": "stdout",
     "output_type": "stream",
     "text": [
      "Original DataFrame\n",
      "+---+------+-----+\n",
      "|Num|  Name|Store|\n",
      "+---+------+-----+\n",
      "|  1| Henry|  100|\n",
      "|  2| Karen|  100|\n",
      "|  3|  Paul|  101|\n",
      "|  4| Jimmy|  102|\n",
      "|  5|Janice|  103|\n",
      "+---+------+-----+\n",
      "\n",
      "Grouped and Aggregated by \"count\"\n",
      "+-----+------------+\n",
      "|Store|count(Store)|\n",
      "+-----+------------+\n",
      "|  103|           1|\n",
      "|  100|           2|\n",
      "|  101|           1|\n",
      "|  102|           1|\n",
      "+-----+------------+\n",
      "\n",
      "Grouped and aggregated by count after lit(1)\n",
      "+-----+----------+\n",
      "|Store|New column|\n",
      "+-----+----------+\n",
      "|  103|         1|\n",
      "|  100|         2|\n",
      "|  101|         1|\n",
      "|  102|         1|\n",
      "+-----+----------+\n",
      "\n",
      "Grouped and aggregated by \"sum\" of column \"Num\"\n",
      "+-----+--------+\n",
      "|Store|sum(Num)|\n",
      "+-----+--------+\n",
      "|  103|       5|\n",
      "|  100|       3|\n",
      "|  101|       3|\n",
      "|  102|       4|\n",
      "+-----+--------+\n",
      "\n"
     ]
    }
   ],
   "source": [
    "# Create dataframe\n",
    "salespeople=sc.parallelize(['1\\tHenry\\t100',\n",
    "                           '2\\tKaren\\t100',\n",
    "                           '3\\tPaul\\t101',\n",
    "                           '4\\tJimmy\\t102',\n",
    "                           '5\\tJanice\\t103']) \\\n",
    ".map(lambda x: x.split('\\t')) \\\n",
    ".map(lambda x: (int(x[0]),x[1],int(x[2])))\n",
    "salespeople.collect()\n",
    "salespeople_df=sqlContext.createDataFrame(salespeople,['Num','Name','Store'])\n",
    "print('Original DataFrame')\n",
    "salespeople_df.show()\n",
    "\n",
    "# Group the dataframe by store\n",
    "salespeople_df_grouped=salespeople_df.groupBy('Store')\n",
    "\n",
    "# Aggregate using `count`\n",
    "print('Grouped and Aggregated by \"count\"')\n",
    "salespeople_df_grouped.agg({'Store': \"count\"}).show()\n",
    "\n",
    "# Alternatively, use pyspark.sql.functions as func and count group members after assigning \n",
    "# each of them literal(constant) value 1 by func.lit(1)\n",
    "print('Grouped and aggregated by count after lit(1)')\n",
    "salespeople_df_grouped.agg(func.count(func.lit(1)).alias('New column')).show()\n",
    "\n",
    "# Aggregate by sum of column 'Num'\n",
    "print('Grouped and aggregated by \"sum\" of column \"Num\"')\n",
    "salespeople_df_grouped.agg(func.sum('Num')).show()"
   ]
  },
  {
   "cell_type": "markdown",
   "metadata": {},
   "source": [
    "<font color=blue>\n",
    "\n",
    "In the following cell enter code selecting 20 most popular artists by creating DataFrame `artists` of format. Cache object `artists`.\n",
    "\n",
    "`artists.cache() <br>\n",
    "\n",
    "artists.orderBy(\"num_of_users\", ascending=False).show(20)`\n",
    "\n",
    "+--------+-----------+------------+--------------------+ <br>\n",
    "|artistId|total_count|num_of_users|                name| <br>\n",
    "+--------+-----------+------------+--------------------+ <br>\n",
    "| 2000710|    2473963|       45178|           Radiohead| <br>\n",
    "| 2003097|    1912942|       43465|           Green Day| <br>\n",
    "| 2004180|    2241957|       40506|         The Beatles| <br>\n",
    "| 2000842|     989287|       38102|            Coldplay| <br>\n",
    "| 2000708|    1191329|       36468|             Nirvana| <br>\n",
    "| 2000914|    1079743|       35704|Red Hot Chili Pep...| <br>\n",
    "| 2000868|    1004762|       34516|                  U2| <br>\n",
    "| 2004129|    1531912|       32018|           Metallica| <br>\n",
    "| 2002433|     968130|       31611|              Weezer| <br>\n",
    "| 2028381|     425530|       30988|           [unknown]| <br>\n",
    "| 2127606|     734595|       30370|     Franz Ferdinand| <br>\n",
    "| 2000061|    1381406|       30340|          Pink Floyd| <br>\n",
    "| 2151366|     869596|       29879|         The Killers| <br>\n",
    "| 2000940|     663986|       29521|   The White Stripes| <br>\n",
    "| 2000249|     898207|       28888|                Beck| <br>\n",
    "| 2000137|     888095|       28853|            The Cure| <br>\n",
    "| 2001006|     936310|       28787|        Led Zeppelin| <br>\n",
    "| 2000677|     884734|       28670|              Eminem| <br>\n",
    "| 2155447|     746973|       28590|              R.E.M.| <br>\n",
    "| 2000911|     731504|       28156|               Queen| <br>\n",
    "+--------+-----------+------------+--------------------+ <br>\n",
    "only showing top 20 rows <br>"
   ]
  },
  {
   "cell_type": "code",
   "execution_count": 28,
   "metadata": {},
   "outputs": [
    {
     "name": "stdout",
     "output_type": "stream",
     "text": [
      "+--------+---------------------+---------------------+--------------------+\n",
      "|artistId|CountofPlaysPerArtist|CountofUsersPerArtist|                name|\n",
      "+--------+---------------------+---------------------+--------------------+\n",
      "| 2000710|               272386|                  641|           Radiohead|\n",
      "| 2003097|               215464|                  584|           Green Day|\n",
      "| 2004180|               226094|                  578|         The Beatles|\n",
      "| 2000708|               131860|                  573|             Nirvana|\n",
      "| 2000842|                80399|                  541|            Coldplay|\n",
      "| 2002433|                98676|                  541|              Weezer|\n",
      "| 2000914|                99656|                  540|Red Hot Chili Pep...|\n",
      "| 2000137|                99322|                  505|            The Cure|\n",
      "| 2028381|                22950|                  499|           [unknown]|\n",
      "| 2000868|                99696|                  498|                  U2|\n",
      "| 2155446|               110588|                  497|              R.E.M.|\n",
      "| 2000088|                70315|                  496|        Beastie Boys|\n",
      "| 2005113|                99871|                  489|The Smashing Pump...|\n",
      "| 2004129|               182005|                  488|           Metallica|\n",
      "| 2000061|               178506|                  488|          Pink Floyd|\n",
      "| 2004152|                67627|                  486|        Foo Fighters|\n",
      "| 2005175|               159844|                  480|        Modest Mouse|\n",
      "| 2000940|                58010|                  478|   The White Stripes|\n",
      "| 2001006|                95648|                  477|        Led Zeppelin|\n",
      "| 2013825|                73260|                  476|Rage Against the ...|\n",
      "+--------+---------------------+---------------------+--------------------+\n",
      "only showing top 20 rows\n",
      "\n"
     ]
    }
   ],
   "source": [
    "# Top 20 most popular artist\n",
    "# Group the dataframe by artistId\n",
    "artists_grouped=userartist_df.groupBy('artistId')\n",
    "# aggregate the sum of counts, which is how many times all users have played the artist\n",
    "# aggregate the count of userId, which is how many users have listened to the artist\n",
    "artists=artists_grouped.agg({\"count\":\"sum\", \"userId\":\"count\"})\\\n",
    ".withColumnRenamed('sum(count)', 'CountofPlaysPerArtist')\\\n",
    ".withColumnRenamed('count(userId)','CountofUsersPerArtist')\n",
    "# Join grouped df with artistdata_df by artistId to get the name column    \n",
    "artists_named=artists.join(artistdata_df, \"artistId\")\n",
    "# Sort the new df by number of Users listening to Artist\n",
    "artists_named.sort(\"CountofUsersPerArtist\", ascending=False).show(20)\n"
   ]
  },
  {
   "cell_type": "markdown",
   "metadata": {},
   "source": [
    "Note that the 10-th most popular artist is *[unknown]*. It is an artifact of our dataset.\n",
    "\n",
    "Maybe there are some other artifacts (such as websites instead of artist names)?\n",
    "\n",
    "It might be a good idea to clean the dataset before doing deep analysis. <br>\n",
    "\n",
    "Data in both files have been cleaned for you relative to the version available publicly.\n",
    "\n",
    "**But some obvious problems are still there. <br>\n",
    "Explore the dataset further and try to clean up the data as much as you can. <br>\n",
    "It may help improving the score**."
   ]
  },
  {
   "cell_type": "markdown",
   "metadata": {},
   "source": [
    "<font color=blue>\n",
    "\n",
    "Find top most active users. <br>\n",
    "Create object `users` of the following format. <br>\n",
    "Again, cache the object and show it sorted. <br>\n",
    "\n",
    "`users.cache()\n",
    "\n",
    "users.orderBy(\"num_of_artists\", ascending=False).show(10)`"
   ]
  },
  {
   "cell_type": "code",
   "execution_count": 26,
   "metadata": {},
   "outputs": [
    {
     "name": "stdout",
     "output_type": "stream",
     "text": [
      "+-------+-----------------+-------------------+\n",
      "| UserId|TotalPlaysPerUser|TotalArtistsPerUser|\n",
      "+-------+-----------------+-------------------+\n",
      "|1016450|           650696|                173|\n",
      "|1042101|           537000|                 41|\n",
      "|1030268|           277505|                 43|\n",
      "|1043655|           194279|                 82|\n",
      "|1029444|           141445|                 51|\n",
      "|1043832|           131238|                100|\n",
      "|1012180|           122680|                339|\n",
      "|1028142|           122468|                 54|\n",
      "|1041585|            98357|                398|\n",
      "|1027163|            88421|                139|\n",
      "+-------+-----------------+-------------------+\n",
      "only showing top 10 rows\n",
      "\n"
     ]
    }
   ],
   "source": [
    "# Skipped code\n",
    "# top 10 most active users\n",
    "# group users df by UserId, aggregate sum of count: Total plays by user. \n",
    "# aggregate count of artistId : Total Artists per User\n",
    "users=userartist_df.groupBy(\"UserId\").agg({\"count\":\"sum\",\"artistId\":\"count\"})\\\n",
    "    .withColumnRenamed('sum(count)','TotalPlaysPerUser') \\\n",
    "    .withColumnRenamed('count(artistId)','TotalArtistsPerUser') \\\n",
    "    .sort(\"TotalPlaysPerUser\", ascending=False)\n",
    "users.cache()\n",
    "users.show(10)"
   ]
  },
  {
   "cell_type": "code",
   "execution_count": 29,
   "metadata": {},
   "outputs": [
    {
     "name": "stdout",
     "output_type": "stream",
     "text": [
      "+-------+--------+------+\n",
      "| userId|artistId| count|\n",
      "+-------+--------+------+\n",
      "|1042101| 2003226|439771|\n",
      "|1016450| 2005362|433060|\n",
      "|1016450| 2022384|155895|\n",
      "|1043832| 2005362|101076|\n",
      "|1029444| 2009279| 89592|\n",
      "|1021070| 2006922| 67548|\n",
      "|1030268| 2009346| 62815|\n",
      "|1030268| 2002072| 51039|\n",
      "|1027163| 2000061| 36083|\n",
      "|1043655| 2008227| 34800|\n",
      "+-------+--------+------+\n",
      "only showing top 10 rows\n",
      "\n"
     ]
    }
   ],
   "source": [
    "userartist_df.orderBy(\"count\", ascending=False).show(10)"
   ]
  },
  {
   "cell_type": "markdown",
   "metadata": {},
   "source": [
    "**Note that some users have played some artists songs enormous number of times! <br>\n",
    "This is also an artifact (someone's mistake, spam-attack, etc). <br>\n",
    "It seems reasonable to remove all records with large *count* value**."
   ]
  },
  {
   "cell_type": "markdown",
   "metadata": {},
   "source": [
    "<font color=blue>\n",
    "\n",
    "Calculate sparsity coefficient of user-artist matrix defined as\n",
    "$$\\frac{Number~of~rows~in~data~set}{Number~of~users~\\times~Number~of~artists}$$\n",
    "\n",
    "Enter code in the following cell\n",
    "\n",
    "`Sparsity Сoeff = 0.00010881247476449967`"
   ]
  },
  {
   "cell_type": "code",
   "execution_count": 30,
   "metadata": {},
   "outputs": [
    {
     "data": {
      "text/plain": [
       "0.00012734128089289434"
      ]
     },
     "execution_count": 30,
     "metadata": {},
     "output_type": "execute_result"
    }
   ],
   "source": [
    "# Skipped code\n",
    "# sparsity coefficient of user-artist matrix\n",
    "nrows=userartist_df.count()# :181733\n",
    "nusers=userartist_df.select(\"UserId\").distinct().count()# :999\n",
    "nartists=artistdata_df.select(\"artistId\").distinct().count() # :1428562\n",
    "sparsity_coeff = nrows/(nusers*nartists) # :0.00012734128089289434\n",
    "sparsity_coeff"
   ]
  },
  {
   "cell_type": "markdown",
   "metadata": {},
   "source": [
    "<font color=blue>\n",
    "\n",
    "Note that user-artist matrix is *very* sparse.\n",
    "\n",
    "Plot histogram of user counts per artist. <br>\n",
    "\n",
    "**Hint**. Create a list of user counts per artist, then create histogram similar to the example in notebook \"Linear Regression in Spark MLLib\" \n",
    "\n",
    "Enter code in the following cell."
   ]
  },
  {
   "cell_type": "code",
   "execution_count": 43,
   "metadata": {},
   "outputs": [
    {
     "data": {
      "image/png": "[encoded data removed]",
      "text/plain": [
       "<matplotlib.figure.Figure at 0x228cb8732e8>"
      ]
     },
     "metadata": {},
     "output_type": "display_data"
    }
   ],
   "source": [
    "# Skipped code\n",
    "# histogram of users per artist\n",
    "import matplotlib.pyplot as plt\n",
    "plt.hist(artists_named.select(\"CountofUsersPerArtist\").toPandas().values)\n",
    "plt.show()\n"
   ]
  },
  {
   "cell_type": "markdown",
   "metadata": {},
   "source": [
    "<font color=blue>\n",
    "\n",
    "Plot histogram of artists per user.\n",
    "\n",
    "Enter code in the following cell."
   ]
  },
  {
   "cell_type": "code",
   "execution_count": 44,
   "metadata": {
    "scrolled": true
   },
   "outputs": [
    {
     "data": {
      "image/png": "[encoded data removed]",
      "text/plain": [
       "<matplotlib.figure.Figure at 0x228e35a5320>"
      ]
     },
     "metadata": {},
     "output_type": "display_data"
    }
   ],
   "source": [
    "# Skipped code\n",
    "# histogram of artists per user\n",
    "plt.hist(users.select(\"TotalArtistsPerUser\").rdd.map(lambda x:x[0]).collect())\n",
    "plt.show()\n"
   ]
  },
  {
   "cell_type": "markdown",
   "metadata": {},
   "source": [
    "Check large data set for number of users who played only very few artists and number of artists almost never played by any user. <br>\n",
    "If a lot of artists have only one or two listeners that may be not good. <br>\n",
    "Also if many users have only one or two played artists it may cause a problem. <br>\n",
    "Should we also remove such users and artists before fitting the model?"
   ]
  }
 ],
 "metadata": {
  "anaconda-cloud": {},
  "kernelspec": {
   "display_name": "Python 3",
   "language": "python",
   "name": "python3"
  },
  "language_info": {
   "codemirror_mode": {
    "name": "ipython",
    "version": 3
   },
   "file_extension": ".py",
   "mimetype": "text/x-python",
   "name": "python",
   "nbconvert_exporter": "python",
   "pygments_lexer": "ipython3",
   "version": "3.6.2"
  }
 },
 "nbformat": 4,
 "nbformat_minor": 2
}
