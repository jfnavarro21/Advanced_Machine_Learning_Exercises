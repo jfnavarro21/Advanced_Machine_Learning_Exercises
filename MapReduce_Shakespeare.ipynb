{
 "cells": [
  {
   "cell_type": "markdown",
   "metadata": {},
   "source": [
    "# MScA, Advanced Machine Learning (32017)\n",
    "\n",
    "# Week 1 Assignment: Introduction to Spark"
   ]
  },
  {
   "cell_type": "markdown",
   "metadata": {},
   "source": [
    "## Installation of Spark on local computer\n",
    "\n",
    "Follow instructions in the <a href=\"https://ilykei.com/api/fileProxy/documents%2FAdvanced%20Machine%20Learning%2FLecture%201%20AdvML%2FSparkInstallation0.1.pdf\" target=\"_blank\"> document prepared by Ashish Pujari</a>\n",
    "\n",
    "Check that installation is working by running test code at the end of the installation instructions notebook.\n",
    "\n",
    "## Example\n",
    "\n",
    "Run the following example to start using Spark from your notebook.\n",
    "\n",
    "See if you need to refresh your knowledge of lambda functions in python or other basic python skills.\n",
    "If some pyspark commands (like, for example, `.map()`, `flatMap()`, etc.) do not make sense - no need to worry: we will go over them next week. \n"
   ]
  },
  {
   "cell_type": "markdown",
   "metadata": {},
   "source": [
    "Create an RDD from the first 5 lines of Shakespeare's \"A Midsummer-Night's Dream\". <br>\n",
    "The result is a list of elements."
   ]
  },
  {
   "cell_type": "code",
   "execution_count": 9,
   "metadata": {},
   "outputs": [
    {
     "data": {
      "text/plain": [
       "[\"A MIDSUMMER-NIGHT'S DREAM\",\n",
       " '',\n",
       " 'Now , fair Hippolyta , our nuptial hour ',\n",
       " 'Draws on apace : four happy days bring in ',\n",
       " 'Another moon ; but O ! methinks how slow ']"
      ]
     },
     "execution_count": 9,
     "metadata": {},
     "output_type": "execute_result"
    }
   ],
   "source": [
    "txtRDD=sc.textFile(\"./Examples/shakespeare.txt\")\n",
    "txtRDD.take(5)"
   ]
  },
  {
   "cell_type": "markdown",
   "metadata": {},
   "source": [
    "After executing the cell above find your localhost UI by typing `localhost:4040` in your browser.\n",
    "If you experience issues connecting look at diagnostics in your command window or terminal: it is possible that localhost port is replaced by, for example 4041.\n",
    "\n",
    "On Jobs tab find the job executed by the cell above. \n",
    "On Stages tab click the stage link.\n",
    "-  Find DAG visualization for the job;\n",
    "-  Find duration;\n",
    "-  Find Input Size / Records;\n",
    "-  Check the number of data partitions (RDD Blocks) for this job\n",
    "\n",
    "Repeat the same job with number of partitions set."
   ]
  },
  {
   "cell_type": "code",
   "execution_count": 10,
   "metadata": {},
   "outputs": [
    {
     "data": {
      "text/plain": [
       "[\"A MIDSUMMER-NIGHT'S DREAM\",\n",
       " '',\n",
       " 'Now , fair Hippolyta , our nuptial hour ',\n",
       " 'Draws on apace : four happy days bring in ',\n",
       " 'Another moon ; but O ! methinks how slow ']"
      ]
     },
     "execution_count": 10,
     "metadata": {},
     "output_type": "execute_result"
    }
   ],
   "source": [
    "txtRDD=sc.textFile(\"./Examples/shakespeare.txt\",minPartitions=4)\n",
    "txtRDD.take(5)"
   ]
  },
  {
   "cell_type": "markdown",
   "metadata": {},
   "source": [
    "Check the new job which appeared in Driver UI.\n",
    "What has changed?\n",
    "\n",
    "Summarize the information collected from UI in the following empty cell."
   ]
  },
  {
   "cell_type": "markdown",
   "metadata": {},
   "source": [
    "Summary of information from Driver UI:\n"
   ]
  },
  {
   "cell_type": "markdown",
   "metadata": {},
   "source": [
    "Apply one step of type Map: split the data into separate words using `.map('\\W+')` which returns a new RDD with \n",
    "lambda function applied to each of the elements of the original list. The output is in the form of list of lists."
   ]
  },
  {
   "cell_type": "code",
   "execution_count": 11,
   "metadata": {},
   "outputs": [
    {
     "data": {
      "text/plain": [
       "[['A', 'MIDSUMMER', 'NIGHT', 'S', 'DREAM'],\n",
       " [''],\n",
       " ['Now', 'fair', 'Hippolyta', 'our', 'nuptial', 'hour', ''],\n",
       " ['Draws', 'on', 'apace', 'four', 'happy', 'days', 'bring', 'in', ''],\n",
       " ['Another', 'moon', 'but', 'O', 'methinks', 'how', 'slow', '']]"
      ]
     },
     "execution_count": 11,
     "metadata": {},
     "output_type": "execute_result"
    }
   ],
   "source": [
    "import re\n",
    "txtRDD.map(lambda line: re.split('\\W+',line)).take(5)"
   ]
  },
  {
   "cell_type": "markdown",
   "metadata": {},
   "source": [
    "Now do the same, but using `.flatMap()` which returns new RDD as single list of elements, rather than list of lists. "
   ]
  },
  {
   "cell_type": "code",
   "execution_count": 12,
   "metadata": {},
   "outputs": [
    {
     "data": {
      "text/plain": [
       "['A',\n",
       " 'MIDSUMMER',\n",
       " 'NIGHT',\n",
       " 'S',\n",
       " 'DREAM',\n",
       " '',\n",
       " 'Now',\n",
       " 'fair',\n",
       " 'Hippolyta',\n",
       " 'our']"
      ]
     },
     "execution_count": 12,
     "metadata": {},
     "output_type": "execute_result"
    }
   ],
   "source": [
    "txtRDD.flatMap(lambda line: re.split('\\W+',line)).take(10)"
   ]
  },
  {
   "cell_type": "markdown",
   "metadata": {},
   "source": [
    "Now apply 2 Map steps: <br>\n",
    "First `.flatMap()` to separate words. <br> \n",
    "Then `.map()` to prepare key-value pair needed for counting: (key,1); here key will be a word from Shakespeare."
   ]
  },
  {
   "cell_type": "code",
   "execution_count": 13,
   "metadata": {},
   "outputs": [
    {
     "data": {
      "text/plain": [
       "[('A', 1),\n",
       " ('MIDSUMMER', 1),\n",
       " ('NIGHT', 1),\n",
       " ('S', 1),\n",
       " ('DREAM', 1),\n",
       " ('', 1),\n",
       " ('Now', 1),\n",
       " ('fair', 1),\n",
       " ('Hippolyta', 1),\n",
       " ('our', 1)]"
      ]
     },
     "execution_count": 13,
     "metadata": {},
     "output_type": "execute_result"
    }
   ],
   "source": [
    "kvrdd=txtRDD \\\n",
    ".flatMap(lambda line: re.split('\\W+',line)) \\\n",
    ".map(lambda word: (word,1))\n",
    "kvrdd.take(10)"
   ]
  },
  {
   "cell_type": "markdown",
   "metadata": {},
   "source": [
    "The elements of the output list are tuples of the form `(k,v)`. <br>\n",
    "<br>\n",
    "After these two Map steps use `reduceByKey()` to summarize total by key. <br> \n",
    "Result is another list of tuples."
   ]
  },
  {
   "cell_type": "code",
   "execution_count": 14,
   "metadata": {},
   "outputs": [
    {
     "data": {
      "text/plain": [
       "[('NIGHT', 2),\n",
       " ('', 130028),\n",
       " ('apace', 25),\n",
       " ('days', 198),\n",
       " ('in', 9584),\n",
       " ('Another', 23),\n",
       " ('but', 3711),\n",
       " ('O', 2299),\n",
       " ('lingers', 4),\n",
       " ('step', 29)]"
      ]
     },
     "execution_count": 14,
     "metadata": {},
     "output_type": "execute_result"
    }
   ],
   "source": [
    "kvrdd.reduceByKey(lambda v1,v2: v1+v2).take(10)"
   ]
  }
 ],
 "metadata": {
  "kernelspec": {
   "display_name": "Python 3",
   "language": "python",
   "name": "python3"
  },
  "language_info": {
   "codemirror_mode": {
    "name": "ipython",
    "version": 3
   },
   "file_extension": ".py",
   "mimetype": "text/x-python",
   "name": "python",
   "nbconvert_exporter": "python",
   "pygments_lexer": "ipython3",
   "version": "3.6.2"
  }
 },
 "nbformat": 4,
 "nbformat_minor": 2
}
